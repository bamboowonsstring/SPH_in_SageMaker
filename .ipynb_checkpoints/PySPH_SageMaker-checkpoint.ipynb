{
 "cells": [
  {
   "cell_type": "markdown",
   "metadata": {},
   "source": [
    "# PySPHをSageMakerで使う方法\n",
    "## PySPHをSageMakerで使ってシミュレーションする手順\n",
    "1. シミュレーションの前準備\n",
    "1. 前処理\n",
    "1. シミュレーション\n",
    "1. 後処理"
   ]
  },
  {
   "cell_type": "markdown",
   "metadata": {},
   "source": [
    "## シミュレーションの前準備\n",
    "### シミュレーションソースコードを使うdockerイメージをECRに送信"
   ]
  },
  {
   "cell_type": "code",
   "execution_count": 138,
   "metadata": {
    "scrolled": true
   },
   "outputs": [
    {
     "name": "stdout",
     "output_type": "stream",
     "text": [
      "Login Succeeded\n",
      "Sending build context to Docker daemon    207MB\r",
      "\r\n",
      "Step 1/13 : FROM nvidia/opencl:devel-ubuntu16.04\n",
      " ---> 58144534b0c2\n",
      "Step 2/13 : MAINTAINER bamboowonsstring <extra.excramattion1@gmail.com>\n",
      " ---> Using cache\n",
      " ---> 077f0eea0e29\n",
      "Step 3/13 : RUN apt-get -y update && apt-get install -y         wget          python          python-pip          ca-certificates          python-dev\n",
      " ---> Using cache\n",
      " ---> b4741ade3280\n",
      "Step 4/13 : RUN apt-get install -y build-essential python-dev python-numpy     python-mako cython python-pytest mayavi2 python-virtualenv\n",
      " ---> Using cache\n",
      " ---> f89ca528f394\n",
      "Step 5/13 : RUN pip install pytools\n",
      " ---> Using cache\n",
      " ---> 322e7f69749c\n",
      "Step 6/13 : RUN pip install numpy-stl\n",
      " ---> Using cache\n",
      " ---> 0b5f8e9be4f8\n",
      "Step 7/13 : RUN pip install PySPH\n",
      " ---> Using cache\n",
      " ---> 131639c26aa9\n",
      "Step 8/13 : ENV PYTHONUNBUFFERED=TRUE\n",
      " ---> Using cache\n",
      " ---> a69d79f55c29\n",
      "Step 9/13 : ENV PYTHONDONTWRITEBYTECODE=TRUE\n",
      " ---> Using cache\n",
      " ---> 73e18d4ea496\n",
      "Step 10/13 : ENV PATH=\"/opt/program:${PATH}\"\n",
      " ---> Using cache\n",
      " ---> 2373ef0e10fd\n",
      "Step 11/13 : COPY calculate.py /opt/program/\n",
      " ---> 975da4f2f3e0\n",
      "Step 12/13 : COPY train /opt/program/\n",
      " ---> 9effd46c9167\n",
      "Step 13/13 : WORKDIR /opt/program\n",
      " ---> Running in 18e75265566f\n",
      "Removing intermediate container 18e75265566f\n",
      " ---> eb845b9d16d1\n",
      "Successfully built eb845b9d16d1\n",
      "Successfully tagged psph:latest\n",
      "The push refers to repository [682741310571.dkr.ecr.us-east-2.amazonaws.com/psph]\n",
      "bca7b9d284f0: Preparing\n",
      "98124a4f0e2d: Preparing\n",
      "d5754f630a57: Preparing\n",
      "1f731d7d63e5: Preparing\n",
      "e449aa305c7a: Preparing\n",
      "0be6d403882a: Preparing\n",
      "96c323b429ee: Preparing\n",
      "e5ccf27e3d01: Preparing\n",
      "be2164332f98: Preparing\n",
      "3e24bdfb3a32: Preparing\n",
      "68dda0c9a8cd: Preparing\n",
      "f67191ae09b8: Preparing\n",
      "b2fd8b4c3da7: Preparing\n",
      "0de2edf7bff4: Preparing\n",
      "3e24bdfb3a32: Waiting\n",
      "68dda0c9a8cd: Waiting\n",
      "f67191ae09b8: Waiting\n",
      "b2fd8b4c3da7: Waiting\n",
      "0de2edf7bff4: Waiting\n",
      "0be6d403882a: Waiting\n",
      "96c323b429ee: Waiting\n",
      "e5ccf27e3d01: Waiting\n",
      "be2164332f98: Waiting\n",
      "e449aa305c7a: Layer already exists\n",
      "d5754f630a57: Layer already exists\n",
      "1f731d7d63e5: Layer already exists\n",
      "0be6d403882a: Layer already exists\n",
      "e5ccf27e3d01: Layer already exists\n",
      "96c323b429ee: Layer already exists\n",
      "68dda0c9a8cd: Layer already exists\n",
      "be2164332f98: Layer already exists\n",
      "3e24bdfb3a32: Layer already exists\n",
      "f67191ae09b8: Layer already exists\n",
      "b2fd8b4c3da7: Layer already exists\n",
      "0de2edf7bff4: Layer already exists\n",
      "98124a4f0e2d: Pushed\n",
      "bca7b9d284f0: Pushed\n",
      "latest: digest: sha256:f8ee346b82cfa100073f1ad7606959a328701c0d34525a003a3e37b07610276a size: 3249\n",
      "\n"
     ]
    }
   ],
   "source": [
    "from __future__ import print_function\n",
    "import subprocess\n",
    "try:\n",
    "    print (subprocess.check_output(['./build_and_push.sh', 'psph']).decode('utf-8'))\n",
    "except subprocess.CalledProcessError as e:\n",
    "    print(e.output)"
   ]
  },
  {
   "cell_type": "markdown",
   "metadata": {},
   "source": [
    "## 前処理\n",
    "1. PySPHで使用するParticleArray,Schemeなどを準備\n",
    "1. S3に送信"
   ]
  },
  {
   "cell_type": "markdown",
   "metadata": {},
   "source": [
    "### PySPHで使用するParticleArray,Schemeなどを準備"
   ]
  },
  {
   "cell_type": "markdown",
   "metadata": {},
   "source": [
    "パラメータを準備"
   ]
  },
  {
   "cell_type": "code",
   "execution_count": 113,
   "metadata": {},
   "outputs": [],
   "source": [
    "paramet={\n",
    "'co' : 1400.0,\n",
    "'ro' : 1.0,\n",
    "'hdx' : 1.3,\n",
    "'dx' : 0.025,\n",
    "'alpha' : 0.1,\n",
    "'dt' : 5e-6,\n",
    "'tf' : 0.0076,\n",
    "}\n",
    "#Test用のJsonファイルを作成\n",
    "import json\n",
    "\n",
    "with open('par.pickle', mode='w') as f:\n",
    "    json.dump(paramet,f)"
   ]
  },
  {
   "cell_type": "code",
   "execution_count": 129,
   "metadata": {},
   "outputs": [],
   "source": [
    "import pickle\n",
    "\n",
    "from numpy import ones_like, mgrid, sqrt\n",
    "\n",
    "from pysph.base.utils import get_particle_array\n",
    "from pysph.base.utils import get_particle_array_wcsph\n",
    "from pysph.base.kernels import CubicSpline\n",
    "#from pysph.sph.scheme import WCSPHScheme\n",
    "\n",
    "from pysph.solver.solver import Solver\n",
    "from pysph.sph.integrator import EPECIntegrator\n",
    "from pysph.sph.integrator_step import WCSPHStep\n",
    "\n",
    "from pysph.sph.equation import Group\n",
    "from pysph.sph.basic_equations import XSPHCorrection, ContinuityEquation\n",
    "from pysph.sph.wc.basic import TaitEOS, MomentumEquation\n",
    "\n",
    "co = 1400.0\n",
    "ro = 1.0\n",
    "hdx = 1.3\n",
    "dx = 0.025\n",
    "alpha = 0.1\n",
    "dt = 5e-6\n",
    "tf = 0.0076\n",
    "# s=None\n",
    "\n",
    "# def create_scheme(self):\n",
    "#     global s\n",
    "#     s = WCSPHScheme(\n",
    "#         ['fluid'], [], dim=2, rho0=ro, c0=co,\n",
    "#         h0=dx*hdx, hdx=hdx, gamma=7.0, alpha=0.1, beta=0.0\n",
    "#     )\n",
    "#     dt = 5e-6\n",
    "#     tf = 0.0076\n",
    "#     s.configure_solver(dt=dt, tf=tf)\n",
    "#     return s\n",
    "            \n",
    "def create_solver(self):\n",
    "    kernel = CubicSpline(dim=2)\n",
    "\n",
    "    integrator = EPECIntegrator(fluid=WCSPHStep())\n",
    "\n",
    "    solver = Solver(kernel=kernel, dim=2, integrator=integrator,\n",
    "                    dt=dt, tf=tf,pfreq=10)\n",
    "\n",
    "    return solver\n",
    "\n",
    "def create_equations(self):\n",
    "    equations = [\n",
    "        Group(\n",
    "            equations=[\n",
    "                TaitEOS(\n",
    "                    dest='fluid', sources=None, \n",
    "                    rho0=ro,c0=co, gamma=7.0\n",
    "                ),\n",
    "            ],\n",
    "            real=False\n",
    "        ),\n",
    "        Group(equations=[\n",
    "            ContinuityEquation(dest='fluid',  sources=['fluid']),\n",
    "            MomentumEquation(\n",
    "                dest='fluid', sources=['fluid'],\n",
    "                alpha=alpha, beta=0.0, c0=co\n",
    "            ),\n",
    "            XSPHCorrection(\n",
    "                dest='fluid', sources=['fluid'], eps=0.0)\n",
    "        ]),\n",
    "    ]\n",
    "    return equations    \n",
    "    \n",
    "def create_particles(self):\n",
    "    \"\"\"Create the circular patch of fluid.\"\"\"\n",
    "    name = 'fluid'\n",
    "    x, y = mgrid[-1.05:1.05+1e-4:dx, -1.05:1.05+1e-4:dx]\n",
    "    x = x.ravel()\n",
    "    y = y.ravel()\n",
    "\n",
    "    m = ones_like(x)*dx*dx*ro\n",
    "    h = ones_like(x)*hdx*dx\n",
    "    rho = ones_like(x) * ro\n",
    "    u = -100*x\n",
    "    v = 100*y\n",
    "\n",
    "    # remove particles outside the circle\n",
    "    indices = []\n",
    "    for i in range(len(x)):\n",
    "        if sqrt(x[i]*x[i] + y[i]*y[i]) - 1 > 1e-10:\n",
    "            indices.append(i)\n",
    "\n",
    "    pa = get_particle_array_wcsph(x=x, y=y, m=m, rho=rho, h=h, u=u, v=v,\n",
    "                            name=name)\n",
    "    pa.remove_particles(indices)\n",
    "\n",
    "#     s.setup_properties([pa])\n",
    "    print(\"Elliptical drop :: %d particles\"\n",
    "          % (pa.get_number_of_particles()))\n",
    "    \n",
    "    pa.set_output_arrays(['u', 'v', 'rho', 'h', 'p', 'pid', 'tag', 'gid'])\n",
    "    return [pa]"
   ]
  },
  {
   "cell_type": "code",
   "execution_count": 130,
   "metadata": {},
   "outputs": [],
   "source": [
    "#s=create_scheme()\n",
    "eq=create_equations\n",
    "sol=create_solver\n",
    "pa=create_particles\n",
    "\n",
    "with open('equation.pickle', mode='wb') as f:\n",
    "    pickle.dump(eq, f)   \n",
    "with open('solver.pickle', mode='wb') as f:\n",
    "    pickle.dump(sol, f)      \n",
    "with open('particle.pickle', mode='wb') as f:\n",
    "    pickle.dump(pa, f)     "
   ]
  },
  {
   "cell_type": "markdown",
   "metadata": {},
   "source": [
    "### 動作テスト"
   ]
  },
  {
   "cell_type": "code",
   "execution_count": 137,
   "metadata": {},
   "outputs": [
    {
     "name": "stderr",
     "output_type": "stream",
     "text": [
      "INFO:pysph.solver.application:Running on ip-172-16-84-52 with address 172.16.84.52\n",
      "INFO:pysph.solver.application:Generating output in /home/ec2-user/SageMaker/PySPH/__main___output\n",
      "INFO:pysph.solver.application:No of particles:\n",
      "----------------------------------------------------------------------\n",
      "  fluid: 5025\n",
      "----------------------------------------------------------------------\n",
      "INFO:pysph.solver.application:Using kernel:\n",
      "----------------------------------------------------------------------\n",
      "  CubicSpline(dim=2)\n",
      "----------------------------------------------------------------------\n",
      "INFO:pysph.solver.application:Using nnps:\n",
      "----------------------------------------------------------------------\n",
      "  LinkedListNNPS(dim=2)\n",
      "----------------------------------------------------------------------\n",
      "INFO:pysph.solver.application:Using integrator:\n",
      "----------------------------------------------------------------------\n",
      "  EPECIntegrator(fluid=WCSPHStep())\n",
      "----------------------------------------------------------------------\n",
      "INFO:pysph.solver.application:Using equations:\n",
      "----------------------------------------------------------------------\n",
      "[\n",
      "Group(equations=[\n",
      "TaitEOS(dest='fluid', sources=None, rho0=1.0, c0=1400.0, gamma=7.0, p0=0.0)\n",
      "    ],\n",
      "    real=False, update_nnps=False, iterate=False, max_iterations=1, min_iterations=0, pre=None, post=None),\n",
      "Group(equations=[\n",
      "ContinuityEquation(dest='fluid', sources=['fluid']),\n",
      "MomentumEquation(dest='fluid', sources=['fluid'], c0=1400.0, alpha=0.1, beta=0.0, gx=0.0, gy=0.0, gz=0.0, tensile_correction=False),\n",
      "XSPHCorrection(dest='fluid', sources=['fluid'], eps=0.0)\n",
      "    ],\n",
      "    real=True, update_nnps=False, iterate=False, max_iterations=1, min_iterations=0, pre=None, post=None)\n",
      "]\n",
      "----------------------------------------------------------------------\n",
      "INFO:pysph.solver.application:started multiprocessing interface on ('0.0.0.0', 8819)\n",
      "INFO:pysph.solver.application:Setup took: 0.11317 secs\n"
     ]
    },
    {
     "name": "stdout",
     "output_type": "stream",
     "text": [
      "Elliptical drop :: 5025 particles\n",
      "Generating output in /home/ec2-user/SageMaker/PySPH/__main___output\n",
      "Precompiled code from: /home/ec2-user/.pysph/source/py2.7-linux-x86_64/m_8897e28ff8bf2fcf22238d0bf89c58d9.pyx\n",
      "No of particles:\n",
      "----------------------------------------------------------------------\n",
      "  fluid: 5025\n",
      "----------------------------------------------------------------------\n",
      "Setup took: 0.11317 secs\n",
      "8%"
     ]
    },
    {
     "ename": "KeyboardInterrupt",
     "evalue": "",
     "output_type": "error",
     "traceback": [
      "\u001b[0;31m\u001b[0m",
      "\u001b[0;31mKeyboardInterrupt\u001b[0mTraceback (most recent call last)",
      "\u001b[0;32m<ipython-input-137-d0dcefdb2d71>\u001b[0m in \u001b[0;36m<module>\u001b[0;34m()\u001b[0m\n\u001b[1;32m     46\u001b[0m \u001b[0;32mif\u001b[0m \u001b[0m__name__\u001b[0m \u001b[0;34m==\u001b[0m \u001b[0;34m'__main__'\u001b[0m\u001b[0;34m:\u001b[0m\u001b[0;34m\u001b[0m\u001b[0m\n\u001b[1;32m     47\u001b[0m     \u001b[0mapp\u001b[0m \u001b[0;34m=\u001b[0m \u001b[0mTest\u001b[0m\u001b[0;34m(\u001b[0m\u001b[0;34m)\u001b[0m\u001b[0;34m\u001b[0m\u001b[0m\n\u001b[0;32m---> 48\u001b[0;31m     \u001b[0mapp\u001b[0m\u001b[0;34m.\u001b[0m\u001b[0mrun\u001b[0m\u001b[0;34m(\u001b[0m\u001b[0;34m)\u001b[0m\u001b[0;34m\u001b[0m\u001b[0m\n\u001b[0m",
      "\u001b[0;32m/home/ec2-user/anaconda3/envs/python2/lib/python2.7/site-packages/pysph/solver/application.pyc\u001b[0m in \u001b[0;36mrun\u001b[0;34m(self, argv)\u001b[0m\n\u001b[1;32m   1412\u001b[0m \u001b[0;34m\u001b[0m\u001b[0m\n\u001b[1;32m   1413\u001b[0m         \u001b[0mstart_time\u001b[0m \u001b[0;34m=\u001b[0m \u001b[0mtime\u001b[0m\u001b[0;34m.\u001b[0m\u001b[0mtime\u001b[0m\u001b[0;34m(\u001b[0m\u001b[0;34m)\u001b[0m\u001b[0;34m\u001b[0m\u001b[0m\n\u001b[0;32m-> 1414\u001b[0;31m         \u001b[0mself\u001b[0m\u001b[0;34m.\u001b[0m\u001b[0msolver\u001b[0m\u001b[0;34m.\u001b[0m\u001b[0msolve\u001b[0m\u001b[0;34m(\u001b[0m\u001b[0;32mnot\u001b[0m \u001b[0mself\u001b[0m\u001b[0;34m.\u001b[0m\u001b[0moptions\u001b[0m\u001b[0;34m.\u001b[0m\u001b[0mquiet\u001b[0m\u001b[0;34m)\u001b[0m\u001b[0;34m\u001b[0m\u001b[0m\n\u001b[0m\u001b[1;32m   1415\u001b[0m         \u001b[0mend_time\u001b[0m \u001b[0;34m=\u001b[0m \u001b[0mtime\u001b[0m\u001b[0;34m.\u001b[0m\u001b[0mtime\u001b[0m\u001b[0;34m(\u001b[0m\u001b[0;34m)\u001b[0m\u001b[0;34m\u001b[0m\u001b[0m\n\u001b[1;32m   1416\u001b[0m         \u001b[0mrun_duration\u001b[0m \u001b[0;34m=\u001b[0m \u001b[0mend_time\u001b[0m \u001b[0;34m-\u001b[0m \u001b[0mstart_time\u001b[0m\u001b[0;34m\u001b[0m\u001b[0m\n",
      "\u001b[0;32m/home/ec2-user/anaconda3/envs/python2/lib/python2.7/site-packages/pysph/solver/solver.pyc\u001b[0m in \u001b[0;36msolve\u001b[0;34m(self, show_progress)\u001b[0m\n\u001b[1;32m    445\u001b[0m             \u001b[0;31m# perform the integration and update the time.\u001b[0m\u001b[0;34m\u001b[0m\u001b[0;34m\u001b[0m\u001b[0m\n\u001b[1;32m    446\u001b[0m             \u001b[0;31m# print('Solver Iteration', self.count, self.dt, self.t)\u001b[0m\u001b[0;34m\u001b[0m\u001b[0;34m\u001b[0m\u001b[0m\n\u001b[0;32m--> 447\u001b[0;31m             \u001b[0mself\u001b[0m\u001b[0;34m.\u001b[0m\u001b[0mintegrator\u001b[0m\u001b[0;34m.\u001b[0m\u001b[0mstep\u001b[0m\u001b[0;34m(\u001b[0m\u001b[0mself\u001b[0m\u001b[0;34m.\u001b[0m\u001b[0mt\u001b[0m\u001b[0;34m,\u001b[0m \u001b[0mself\u001b[0m\u001b[0;34m.\u001b[0m\u001b[0mdt\u001b[0m\u001b[0;34m)\u001b[0m\u001b[0;34m\u001b[0m\u001b[0m\n\u001b[0m\u001b[1;32m    448\u001b[0m \u001b[0;34m\u001b[0m\u001b[0m\n\u001b[1;32m    449\u001b[0m             \u001b[0;31m# perform any post step functions\u001b[0m\u001b[0;34m\u001b[0m\u001b[0;34m\u001b[0m\u001b[0m\n",
      "\u001b[0;32m/home/ec2-user/anaconda3/envs/python2/lib/python2.7/site-packages/pysph/sph/integrator.pyc\u001b[0m in \u001b[0;36mstep\u001b[0;34m(self, time, dt)\u001b[0m\n\u001b[1;32m    213\u001b[0m         \u001b[0;34m`\u001b[0m\u001b[0;34m`\u001b[0m\u001b[0mone_timestep\u001b[0m\u001b[0;34m`\u001b[0m\u001b[0;34m`\u001b[0m \u001b[0mmethod\u001b[0m\u001b[0;34m.\u001b[0m\u001b[0;34m\u001b[0m\u001b[0m\n\u001b[1;32m    214\u001b[0m         \"\"\"\n\u001b[0;32m--> 215\u001b[0;31m         \u001b[0mself\u001b[0m\u001b[0;34m.\u001b[0m\u001b[0mc_integrator\u001b[0m\u001b[0;34m.\u001b[0m\u001b[0mstep\u001b[0m\u001b[0;34m(\u001b[0m\u001b[0mtime\u001b[0m\u001b[0;34m,\u001b[0m \u001b[0mdt\u001b[0m\u001b[0;34m)\u001b[0m\u001b[0;34m\u001b[0m\u001b[0m\n\u001b[0m\u001b[1;32m    216\u001b[0m \u001b[0;34m\u001b[0m\u001b[0m\n\u001b[1;32m    217\u001b[0m     \u001b[0;32mdef\u001b[0m \u001b[0mcompute_accelerations\u001b[0m\u001b[0;34m(\u001b[0m\u001b[0mself\u001b[0m\u001b[0;34m,\u001b[0m \u001b[0mindex\u001b[0m\u001b[0;34m=\u001b[0m\u001b[0;36m0\u001b[0m\u001b[0;34m,\u001b[0m \u001b[0mupdate_nnps\u001b[0m\u001b[0;34m=\u001b[0m\u001b[0mTrue\u001b[0m\u001b[0;34m)\u001b[0m\u001b[0;34m:\u001b[0m\u001b[0;34m\u001b[0m\u001b[0m\n",
      "\u001b[0;32mm_8897e28ff8bf2fcf22238d0bf89c58d9.pyx\u001b[0m in \u001b[0;36mm_8897e28ff8bf2fcf22238d0bf89c58d9.Integrator.step\u001b[0;34m()\u001b[0m\n",
      "\u001b[0;32mm_8897e28ff8bf2fcf22238d0bf89c58d9.pyx\u001b[0m in \u001b[0;36mm_8897e28ff8bf2fcf22238d0bf89c58d9.Integrator.step\u001b[0;34m()\u001b[0m\n",
      "\u001b[0;32mm_8897e28ff8bf2fcf22238d0bf89c58d9.pyx\u001b[0m in \u001b[0;36mm_8897e28ff8bf2fcf22238d0bf89c58d9.Integrator.one_timestep\u001b[0;34m()\u001b[0m\n",
      "\u001b[0;32mm_8897e28ff8bf2fcf22238d0bf89c58d9.pyx\u001b[0m in \u001b[0;36mm_8897e28ff8bf2fcf22238d0bf89c58d9.Integrator.compute_accelerations\u001b[0;34m()\u001b[0m\n",
      "\u001b[0;32m/home/ec2-user/anaconda3/envs/python2/lib/python2.7/site-packages/pysph/sph/integrator.pyc\u001b[0m in \u001b[0;36mcompute_accelerations\u001b[0;34m(self, index, update_nnps)\u001b[0m\n\u001b[1;32m    225\u001b[0m         \u001b[0mc_integrator\u001b[0m \u001b[0;34m=\u001b[0m \u001b[0mself\u001b[0m\u001b[0;34m.\u001b[0m\u001b[0mc_integrator\u001b[0m\u001b[0;34m\u001b[0m\u001b[0m\n\u001b[1;32m    226\u001b[0m         \u001b[0ma_eval\u001b[0m \u001b[0;34m=\u001b[0m \u001b[0mself\u001b[0m\u001b[0;34m.\u001b[0m\u001b[0macceleration_evals\u001b[0m\u001b[0;34m[\u001b[0m\u001b[0mindex\u001b[0m\u001b[0;34m]\u001b[0m\u001b[0;34m\u001b[0m\u001b[0m\n\u001b[0;32m--> 227\u001b[0;31m         \u001b[0ma_eval\u001b[0m\u001b[0;34m.\u001b[0m\u001b[0mcompute\u001b[0m\u001b[0;34m(\u001b[0m\u001b[0mc_integrator\u001b[0m\u001b[0;34m.\u001b[0m\u001b[0mt\u001b[0m\u001b[0;34m,\u001b[0m \u001b[0mc_integrator\u001b[0m\u001b[0;34m.\u001b[0m\u001b[0mdt\u001b[0m\u001b[0;34m)\u001b[0m\u001b[0;34m\u001b[0m\u001b[0m\n\u001b[0m\u001b[1;32m    228\u001b[0m \u001b[0;34m\u001b[0m\u001b[0m\n\u001b[1;32m    229\u001b[0m     \u001b[0;32mdef\u001b[0m \u001b[0minitial_acceleration\u001b[0m\u001b[0;34m(\u001b[0m\u001b[0mself\u001b[0m\u001b[0;34m,\u001b[0m \u001b[0mt\u001b[0m\u001b[0;34m,\u001b[0m \u001b[0mdt\u001b[0m\u001b[0;34m)\u001b[0m\u001b[0;34m:\u001b[0m\u001b[0;34m\u001b[0m\u001b[0m\n",
      "\u001b[0;32m/home/ec2-user/anaconda3/envs/python2/lib/python2.7/site-packages/pysph/sph/acceleration_eval.pyc\u001b[0m in \u001b[0;36mcompute\u001b[0;34m(self, t, dt)\u001b[0m\n\u001b[1;32m    225\u001b[0m         \u001b[0mtimestep\u001b[0m\u001b[0;34m,\u001b[0m \u001b[0mdt\u001b[0m\u001b[0;34m.\u001b[0m\u001b[0;34m\u001b[0m\u001b[0m\n\u001b[1;32m    226\u001b[0m         \"\"\"\n\u001b[0;32m--> 227\u001b[0;31m         \u001b[0mself\u001b[0m\u001b[0;34m.\u001b[0m\u001b[0mc_acceleration_eval\u001b[0m\u001b[0;34m.\u001b[0m\u001b[0mcompute\u001b[0m\u001b[0;34m(\u001b[0m\u001b[0mt\u001b[0m\u001b[0;34m,\u001b[0m \u001b[0mdt\u001b[0m\u001b[0;34m)\u001b[0m\u001b[0;34m\u001b[0m\u001b[0m\n\u001b[0m\u001b[1;32m    228\u001b[0m \u001b[0;34m\u001b[0m\u001b[0m\n\u001b[1;32m    229\u001b[0m     \u001b[0;32mdef\u001b[0m \u001b[0mset_compiled_object\u001b[0m\u001b[0;34m(\u001b[0m\u001b[0mself\u001b[0m\u001b[0;34m,\u001b[0m \u001b[0mc_acceleration_eval\u001b[0m\u001b[0;34m)\u001b[0m\u001b[0;34m:\u001b[0m\u001b[0;34m\u001b[0m\u001b[0m\n",
      "\u001b[0;31mKeyboardInterrupt\u001b[0m: "
     ]
    }
   ],
   "source": [
    "from __future__ import print_function\n",
    "from pysph.solver.application import Application\n",
    "\n",
    "import pickle\n",
    "    \n",
    "class Test(Application):\n",
    "#     def initialize(self):\n",
    "#         #Test用のJsonファイルを読み込み\n",
    "#         import json\n",
    "\n",
    "#         with open('par.pickle', mode='r') as f:\n",
    "#             parame=json.load(f)\n",
    "#         print(parame)\n",
    "#         self.dt=float(parame['dt'])\n",
    "        \n",
    "#     def create_scheme(self):\n",
    "#         with open('scheme.pickle', mode='rb') as f:\n",
    "#             s=pickle.load(f)      \n",
    "#         return s\n",
    "    def create_equations(self):\n",
    "        with open('equation.pickle', mode='rb') as f:\n",
    "            eq=pickle.load(f)\n",
    "        return eq(self)       \n",
    "    \n",
    "    def create_solver(self):\n",
    "        with open('solver.pickle', mode='rb') as f:\n",
    "            sol=pickle.load(f)\n",
    "        return sol(self)        \n",
    "   \n",
    "    def create_particles(self):\n",
    "        with open('particle.pickle', mode='rb') as f:\n",
    "            pa=pickle.load(f)\n",
    "        return pa(self)\n",
    "\n",
    "\n",
    "if __name__ == '__main__':\n",
    "    app = Test()\n",
    "    app.run()"
   ]
  },
  {
   "cell_type": "markdown",
   "metadata": {},
   "source": [
    "### S3に送信"
   ]
  },
  {
   "cell_type": "code",
   "execution_count": 139,
   "metadata": {},
   "outputs": [],
   "source": [
    "from sagemaker import get_execution_role\n",
    "import sagemaker as sage\n",
    "import os\n",
    "import boto3\n",
    "resource = boto3.resource('s3') \n",
    "my_bucket = resource.Bucket('sagemaker-bucket03')#使用するS3バケット\n",
    "\n",
    "# my_bucket.upload_file('scheme.pickle',Key='sph/initial_state/scheme.pickle')\n",
    "my_bucket.upload_file('particle.pickle', Key='sph/application_structure/particle.pickle')\n",
    "my_bucket.upload_file('equation.pickle', Key='sph/application_structure/equation.pickle')\n",
    "my_bucket.upload_file('solver.pickle', Key='sph/application_structure/solver.pickle')"
   ]
  },
  {
   "cell_type": "markdown",
   "metadata": {},
   "source": [
    "## シミュレーション"
   ]
  },
  {
   "cell_type": "code",
   "execution_count": 140,
   "metadata": {},
   "outputs": [
    {
     "name": "stderr",
     "output_type": "stream",
     "text": [
      "INFO:sagemaker:Creating training-job with name: psph-2019-03-05-11-57-19-129\n"
     ]
    },
    {
     "name": "stdout",
     "output_type": "stream",
     "text": [
      "2019-03-05 11:57:19 Starting - Starting the training job...\n",
      "2019-03-05 11:57:22 Starting - Launching requested ML instances......\n",
      "2019-03-05 11:58:49 Downloading - Downloading input data\n",
      "2019-03-05 11:58:49 Training - Downloading the training image...\n",
      "2019-03-05 11:59:18 Uploading - Uploading generated training model.\n",
      "\u001b[31mTraceback (most recent call last):\n",
      "  File \"calculate.py\", line 62, in <module>\n",
      "    app = Test(fname=model_path)\n",
      "  File \"/usr/local/lib/python2.7/dist-packages/pysph/solver/application.py\", line 190, in __init__\n",
      "    self.initialize()\n",
      "  File \"calculate.py\", line 32, in initialize\n",
      "    eq=pickle.load(f)\n",
      "  File \"/usr/lib/python2.7/pickle.py\", line 1384, in load\n",
      "    return Unpickler(file).load()\n",
      "  File \"/usr/lib/python2.7/pickle.py\", line 864, in load\n",
      "    dispatch[key](self)\n",
      "  File \"/usr/lib/python2.7/pickle.py\", line 1096, in load_global\n",
      "    klass = self.find_class(module, name)\n",
      "  File \"/usr/lib/python2.7/pickle.py\", line 1132, in find_class\n",
      "    klass = getattr(mod, name)\u001b[0m\n",
      "\u001b[31mAttributeError: 'module' object has no attribute 'create_equations'\u001b[0m\n",
      "\n",
      "2019-03-05 11:59:24 Failed - Training job failed\n"
     ]
    },
    {
     "ename": "ValueError",
     "evalue": "Error for Training job psph-2019-03-05-11-57-19-129: Failed Reason: AlgorithmError: Exit Code: 1",
     "output_type": "error",
     "traceback": [
      "\u001b[0;31m\u001b[0m",
      "\u001b[0;31mValueError\u001b[0mTraceback (most recent call last)",
      "\u001b[0;32m<ipython-input-140-9020a9555921>\u001b[0m in \u001b[0;36m<module>\u001b[0;34m()\u001b[0m\n\u001b[1;32m     19\u001b[0m \u001b[0;31m#シミュレーションに使用するパラメータ、Pythonを介さずに変更する方法があるので使えると便利。\u001b[0m\u001b[0;34m\u001b[0m\u001b[0;34m\u001b[0m\u001b[0m\n\u001b[1;32m     20\u001b[0m \u001b[0;31m#superradiance.hyperparam_dict = param\u001b[0m\u001b[0;34m\u001b[0m\u001b[0;34m\u001b[0m\u001b[0m\n\u001b[0;32m---> 21\u001b[0;31m \u001b[0msuperradiance\u001b[0m\u001b[0;34m.\u001b[0m\u001b[0mfit\u001b[0m\u001b[0;34m(\u001b[0m\u001b[0;34m\"s3://sagemaker-bucket03/sph/application_structure\"\u001b[0m\u001b[0;34m)\u001b[0m\u001b[0;34m\u001b[0m\u001b[0m\n\u001b[0m",
      "\u001b[0;32m/home/ec2-user/anaconda3/envs/python2/lib/python2.7/site-packages/sagemaker/estimator.pyc\u001b[0m in \u001b[0;36mfit\u001b[0;34m(self, inputs, wait, logs, job_name)\u001b[0m\n\u001b[1;32m    232\u001b[0m         \u001b[0mself\u001b[0m\u001b[0;34m.\u001b[0m\u001b[0mlatest_training_job\u001b[0m \u001b[0;34m=\u001b[0m \u001b[0m_TrainingJob\u001b[0m\u001b[0;34m.\u001b[0m\u001b[0mstart_new\u001b[0m\u001b[0;34m(\u001b[0m\u001b[0mself\u001b[0m\u001b[0;34m,\u001b[0m \u001b[0minputs\u001b[0m\u001b[0;34m)\u001b[0m\u001b[0;34m\u001b[0m\u001b[0m\n\u001b[1;32m    233\u001b[0m         \u001b[0;32mif\u001b[0m \u001b[0mwait\u001b[0m\u001b[0;34m:\u001b[0m\u001b[0;34m\u001b[0m\u001b[0m\n\u001b[0;32m--> 234\u001b[0;31m             \u001b[0mself\u001b[0m\u001b[0;34m.\u001b[0m\u001b[0mlatest_training_job\u001b[0m\u001b[0;34m.\u001b[0m\u001b[0mwait\u001b[0m\u001b[0;34m(\u001b[0m\u001b[0mlogs\u001b[0m\u001b[0;34m=\u001b[0m\u001b[0mlogs\u001b[0m\u001b[0;34m)\u001b[0m\u001b[0;34m\u001b[0m\u001b[0m\n\u001b[0m\u001b[1;32m    235\u001b[0m \u001b[0;34m\u001b[0m\u001b[0m\n\u001b[1;32m    236\u001b[0m     \u001b[0;32mdef\u001b[0m \u001b[0m_compilation_job_name\u001b[0m\u001b[0;34m(\u001b[0m\u001b[0mself\u001b[0m\u001b[0;34m)\u001b[0m\u001b[0;34m:\u001b[0m\u001b[0;34m\u001b[0m\u001b[0m\n",
      "\u001b[0;32m/home/ec2-user/anaconda3/envs/python2/lib/python2.7/site-packages/sagemaker/estimator.pyc\u001b[0m in \u001b[0;36mwait\u001b[0;34m(self, logs)\u001b[0m\n\u001b[1;32m    571\u001b[0m     \u001b[0;32mdef\u001b[0m \u001b[0mwait\u001b[0m\u001b[0;34m(\u001b[0m\u001b[0mself\u001b[0m\u001b[0;34m,\u001b[0m \u001b[0mlogs\u001b[0m\u001b[0;34m=\u001b[0m\u001b[0mTrue\u001b[0m\u001b[0;34m)\u001b[0m\u001b[0;34m:\u001b[0m\u001b[0;34m\u001b[0m\u001b[0m\n\u001b[1;32m    572\u001b[0m         \u001b[0;32mif\u001b[0m \u001b[0mlogs\u001b[0m\u001b[0;34m:\u001b[0m\u001b[0;34m\u001b[0m\u001b[0m\n\u001b[0;32m--> 573\u001b[0;31m             \u001b[0mself\u001b[0m\u001b[0;34m.\u001b[0m\u001b[0msagemaker_session\u001b[0m\u001b[0;34m.\u001b[0m\u001b[0mlogs_for_job\u001b[0m\u001b[0;34m(\u001b[0m\u001b[0mself\u001b[0m\u001b[0;34m.\u001b[0m\u001b[0mjob_name\u001b[0m\u001b[0;34m,\u001b[0m \u001b[0mwait\u001b[0m\u001b[0;34m=\u001b[0m\u001b[0mTrue\u001b[0m\u001b[0;34m)\u001b[0m\u001b[0;34m\u001b[0m\u001b[0m\n\u001b[0m\u001b[1;32m    574\u001b[0m         \u001b[0;32melse\u001b[0m\u001b[0;34m:\u001b[0m\u001b[0;34m\u001b[0m\u001b[0m\n\u001b[1;32m    575\u001b[0m             \u001b[0mself\u001b[0m\u001b[0;34m.\u001b[0m\u001b[0msagemaker_session\u001b[0m\u001b[0;34m.\u001b[0m\u001b[0mwait_for_job\u001b[0m\u001b[0;34m(\u001b[0m\u001b[0mself\u001b[0m\u001b[0;34m.\u001b[0m\u001b[0mjob_name\u001b[0m\u001b[0;34m)\u001b[0m\u001b[0;34m\u001b[0m\u001b[0m\n",
      "\u001b[0;32m/home/ec2-user/anaconda3/envs/python2/lib/python2.7/site-packages/sagemaker/session.pyc\u001b[0m in \u001b[0;36mlogs_for_job\u001b[0;34m(self, job_name, wait, poll)\u001b[0m\n\u001b[1;32m   1126\u001b[0m \u001b[0;34m\u001b[0m\u001b[0m\n\u001b[1;32m   1127\u001b[0m         \u001b[0;32mif\u001b[0m \u001b[0mwait\u001b[0m\u001b[0;34m:\u001b[0m\u001b[0;34m\u001b[0m\u001b[0m\n\u001b[0;32m-> 1128\u001b[0;31m             \u001b[0mself\u001b[0m\u001b[0;34m.\u001b[0m\u001b[0m_check_job_status\u001b[0m\u001b[0;34m(\u001b[0m\u001b[0mjob_name\u001b[0m\u001b[0;34m,\u001b[0m \u001b[0mdescription\u001b[0m\u001b[0;34m,\u001b[0m \u001b[0;34m'TrainingJobStatus'\u001b[0m\u001b[0;34m)\u001b[0m\u001b[0;34m\u001b[0m\u001b[0m\n\u001b[0m\u001b[1;32m   1129\u001b[0m             \u001b[0;32mif\u001b[0m \u001b[0mdot\u001b[0m\u001b[0;34m:\u001b[0m\u001b[0;34m\u001b[0m\u001b[0m\n\u001b[1;32m   1130\u001b[0m                 \u001b[0;32mprint\u001b[0m\u001b[0;34m(\u001b[0m\u001b[0;34m)\u001b[0m\u001b[0;34m\u001b[0m\u001b[0m\n",
      "\u001b[0;32m/home/ec2-user/anaconda3/envs/python2/lib/python2.7/site-packages/sagemaker/session.pyc\u001b[0m in \u001b[0;36m_check_job_status\u001b[0;34m(self, job, desc, status_key_name)\u001b[0m\n\u001b[1;32m    826\u001b[0m             \u001b[0mreason\u001b[0m \u001b[0;34m=\u001b[0m \u001b[0mdesc\u001b[0m\u001b[0;34m.\u001b[0m\u001b[0mget\u001b[0m\u001b[0;34m(\u001b[0m\u001b[0;34m'FailureReason'\u001b[0m\u001b[0;34m,\u001b[0m \u001b[0;34m'(No reason provided)'\u001b[0m\u001b[0;34m)\u001b[0m\u001b[0;34m\u001b[0m\u001b[0m\n\u001b[1;32m    827\u001b[0m             \u001b[0mjob_type\u001b[0m \u001b[0;34m=\u001b[0m \u001b[0mstatus_key_name\u001b[0m\u001b[0;34m.\u001b[0m\u001b[0mreplace\u001b[0m\u001b[0;34m(\u001b[0m\u001b[0;34m'JobStatus'\u001b[0m\u001b[0;34m,\u001b[0m \u001b[0;34m' job'\u001b[0m\u001b[0;34m)\u001b[0m\u001b[0;34m\u001b[0m\u001b[0m\n\u001b[0;32m--> 828\u001b[0;31m             \u001b[0;32mraise\u001b[0m \u001b[0mValueError\u001b[0m\u001b[0;34m(\u001b[0m\u001b[0;34m'Error for {} {}: {} Reason: {}'\u001b[0m\u001b[0;34m.\u001b[0m\u001b[0mformat\u001b[0m\u001b[0;34m(\u001b[0m\u001b[0mjob_type\u001b[0m\u001b[0;34m,\u001b[0m \u001b[0mjob\u001b[0m\u001b[0;34m,\u001b[0m \u001b[0mstatus\u001b[0m\u001b[0;34m,\u001b[0m \u001b[0mreason\u001b[0m\u001b[0;34m)\u001b[0m\u001b[0;34m)\u001b[0m\u001b[0;34m\u001b[0m\u001b[0m\n\u001b[0m\u001b[1;32m    829\u001b[0m \u001b[0;34m\u001b[0m\u001b[0m\n\u001b[1;32m    830\u001b[0m     \u001b[0;32mdef\u001b[0m \u001b[0mwait_for_endpoint\u001b[0m\u001b[0;34m(\u001b[0m\u001b[0mself\u001b[0m\u001b[0;34m,\u001b[0m \u001b[0mendpoint\u001b[0m\u001b[0;34m,\u001b[0m \u001b[0mpoll\u001b[0m\u001b[0;34m=\u001b[0m\u001b[0;36m5\u001b[0m\u001b[0;34m)\u001b[0m\u001b[0;34m:\u001b[0m\u001b[0;34m\u001b[0m\u001b[0m\n",
      "\u001b[0;31mValueError\u001b[0m: Error for Training job psph-2019-03-05-11-57-19-129: Failed Reason: AlgorithmError: Exit Code: 1"
     ]
    }
   ],
   "source": [
    "role = get_execution_role()\n",
    "sess = sage.Session()\n",
    "\n",
    "# ECSに保存するDocker image名 \n",
    "# タグはデフォルトで'latest'になる\n",
    "imagename = 'psph'\n",
    "\n",
    "account = sess.boto_session.client('sts').get_caller_identity()['Account']\n",
    "region = sess.boto_session.region_name\n",
    "image = '{}.dkr.ecr.{}.amazonaws.com/{}'.format(account, region, imagename)\n",
    "\n",
    "# トレーニングジョブ\n",
    "# 出力先、使用するインスタンスを指定\n",
    "superradiance = sage.estimator.Estimator(image,\n",
    "                       role, 1, 'ml.c5.xlarge',\n",
    "                       output_path=\"s3://sagemaker-bucket03/sph/output\",\n",
    "                       sagemaker_session=sess)\n",
    "\n",
    "#シミュレーションに使用するパラメータ、Pythonを介さずに変更する方法があるので使えると便利。\n",
    "#superradiance.hyperparam_dict = param\n",
    "superradiance.fit(\"s3://sagemaker-bucket03/sph/application_structure\")"
   ]
  },
  {
   "cell_type": "markdown",
   "metadata": {},
   "source": [
    "## 後処理"
   ]
  },
  {
   "cell_type": "code",
   "execution_count": 86,
   "metadata": {},
   "outputs": [],
   "source": [
    "import os\n",
    "import boto3\n",
    "resource = boto3.resource('s3') \n",
    "my_bucket = resource.Bucket('sagemaker-bucket03')#使用するS3バケット\n",
    "\n",
    "import tarfile\n",
    "\n",
    "# 結果取得\n",
    "job_name=superradiance.latest_training_job.name\n",
    "#job_name = \"psph-2019-01-28-06-05-48-960\"\n",
    "results = my_bucket.Object('sph/output/{}/output/model.tar.gz'.format(job_name))\n",
    "tempfile = '/home/ec2-user/SageMaker/model.tar.gz'   \n",
    "results.download_file(tempfile)   \n",
    "\n",
    "#  展開\n",
    "tar = tarfile.open(tempfile, \"r:gz\")\n",
    "tar.extractall(path = './Data')#ファイル名に何か法則性が必要？"
   ]
  },
  {
   "cell_type": "code",
   "execution_count": 88,
   "metadata": {},
   "outputs": [
    {
     "data": {
      "text/plain": [
       "(-2.0, 2.0)"
      ]
     },
     "execution_count": 88,
     "metadata": {},
     "output_type": "execute_result"
    },
    {
     "data": {
      "image/png": "[encoded data removed]",
      "text/plain": [
       "<Figure size 1080x1080 with 1 Axes>"
      ]
     },
     "metadata": {},
     "output_type": "display_data"
    }
   ],
   "source": [
    "%matplotlib inline\n",
    "\n",
    "from pysph.solver.utils import load\n",
    "data = load('./Data/_1520.npz')\n",
    "particle_arrays = data['arrays']\n",
    "solver_data = data['solver_data']\n",
    "fluid = particle_arrays['fluid']\n",
    "x = fluid.x\n",
    "y = fluid.y\n",
    "\n",
    "import matplotlib.pyplot as plt\n",
    "plt.figure(figsize=(15,15))\n",
    "plt.axes().set_aspect('equal', 'datalim')\n",
    "plt.scatter(x,y)\n",
    "plt.xlim(-2.0,2.0)\n",
    "plt.ylim(-2.0,2.0)"
   ]
  },
  {
   "cell_type": "code",
   "execution_count": 27,
   "metadata": {},
   "outputs": [
    {
     "data": {
      "text/plain": [
       "array([  840.78744151,  1477.47024343,  1247.67816115, ...,   858.28141862,\n",
       "         358.86532895,   706.07228556])"
      ]
     },
     "execution_count": 27,
     "metadata": {},
     "output_type": "execute_result"
    }
   ],
   "source": [
    "p"
   ]
  }
 ],
 "metadata": {
  "kernelspec": {
   "display_name": "conda_python2",
   "language": "python",
   "name": "conda_python2"
  },
  "language_info": {
   "codemirror_mode": {
    "name": "ipython",
    "version": 2
   },
   "file_extension": ".py",
   "mimetype": "text/x-python",
   "name": "python",
   "nbconvert_exporter": "python",
   "pygments_lexer": "ipython2",
   "version": "2.7.15"
  }
 },
 "nbformat": 4,
 "nbformat_minor": 2
}
