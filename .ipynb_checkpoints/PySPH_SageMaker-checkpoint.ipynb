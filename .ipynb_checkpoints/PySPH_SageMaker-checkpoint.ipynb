{
 "cells": [
  {
   "cell_type": "markdown",
   "metadata": {},
   "source": [
    "# PySPHをSageMakerで使う方法\n",
    "## PySPHをSageMakerで使ってシミュレーションする手順\n",
    "1. 前処理\n",
    "1. シミュレーション\n",
    "1. 後処理"
   ]
  },
  {
   "cell_type": "markdown",
   "metadata": {},
   "source": [
    "## 前処理\n",
    "1. PySPHで使用するParticleArray,Schemeなどを準備\n",
    "1. S3に送信"
   ]
  },
  {
   "cell_type": "markdown",
   "metadata": {},
   "source": [
    "### パラメータの作成"
   ]
  },
  {
   "cell_type": "code",
   "execution_count": 2,
   "metadata": {},
   "outputs": [],
   "source": [
    "from __future__ import print_function\n",
    "\n",
    "paramet={\n",
    "'co' : \"1400.0\",\n",
    "'ro' : \"1.0\",\n",
    "'hdx' : \"1.3\",\n",
    "'dx' : \"0.025\",\n",
    "'alpha' : \"0.1\",\n",
    "'dt' : \"5e-6\",\n",
    "'tf' : \"0.0076\",\n",
    "}\n",
    "    \n",
    "#Test用のパラメータを作成\n",
    "model_path='model/'\n",
    "param_path = 'par.json'\n",
    "import json\n",
    "\n",
    "with open(param_path, mode='w') as f:\n",
    "    json.dump(paramet,f)"
   ]
  },
  {
   "cell_type": "markdown",
   "metadata": {},
   "source": [
    "### アプリケーションの作成"
   ]
  },
  {
   "cell_type": "code",
   "execution_count": 3,
   "metadata": {},
   "outputs": [
    {
     "ename": "FileNotFoundError",
     "evalue": "[Errno 2] No such file or directory: '/home/ec2-user/SageMaker/PySPH/model/Data.npz_output/model/Data.npz.log'",
     "output_type": "error",
     "traceback": [
      "\u001b[0;31m---------------------------------------------------------------------------\u001b[0m",
      "\u001b[0;31mFileNotFoundError\u001b[0m                         Traceback (most recent call last)",
      "\u001b[0;32m<ipython-input-3-b4811592a04d>\u001b[0m in \u001b[0;36m<module>\u001b[0;34m()\u001b[0m\n\u001b[1;32m    143\u001b[0m \u001b[0;32mif\u001b[0m \u001b[0m__name__\u001b[0m \u001b[0;34m==\u001b[0m \u001b[0;34m'__main__'\u001b[0m\u001b[0;34m:\u001b[0m\u001b[0;34m\u001b[0m\u001b[0m\n\u001b[1;32m    144\u001b[0m     \u001b[0mapp\u001b[0m \u001b[0;34m=\u001b[0m \u001b[0mTest\u001b[0m\u001b[0;34m(\u001b[0m\u001b[0mfname\u001b[0m\u001b[0;34m=\u001b[0m\u001b[0mmodel_path\u001b[0m\u001b[0;34m+\u001b[0m\u001b[0;34m\"Data.npz\"\u001b[0m\u001b[0;34m)\u001b[0m\u001b[0;34m\u001b[0m\u001b[0m\n\u001b[0;32m--> 145\u001b[0;31m     \u001b[0mapp\u001b[0m\u001b[0;34m.\u001b[0m\u001b[0mrun\u001b[0m\u001b[0;34m(\u001b[0m\u001b[0;34m)\u001b[0m\u001b[0;34m\u001b[0m\u001b[0m\n\u001b[0m",
      "\u001b[0;32m~/anaconda3/envs/python3/lib/python3.6/site-packages/pysph/solver/application.py\u001b[0m in \u001b[0;36mrun\u001b[0;34m(self, argv)\u001b[0m\n\u001b[1;32m   1109\u001b[0m \u001b[0;34m\u001b[0m\u001b[0m\n\u001b[1;32m   1110\u001b[0m             \u001b[0mself\u001b[0m\u001b[0;34m.\u001b[0m\u001b[0m_parse_command_line\u001b[0m\u001b[0;34m(\u001b[0m\u001b[0;34m)\u001b[0m\u001b[0;34m\u001b[0m\u001b[0m\n\u001b[0;32m-> 1111\u001b[0;31m             \u001b[0mself\u001b[0m\u001b[0;34m.\u001b[0m\u001b[0m_setup_logging\u001b[0m\u001b[0;34m(\u001b[0m\u001b[0;34m)\u001b[0m\u001b[0;34m\u001b[0m\u001b[0m\n\u001b[0m\u001b[1;32m   1112\u001b[0m \u001b[0;34m\u001b[0m\u001b[0m\n\u001b[1;32m   1113\u001b[0m             \u001b[0mself\u001b[0m\u001b[0;34m.\u001b[0m\u001b[0msolver\u001b[0m \u001b[0;34m=\u001b[0m \u001b[0mself\u001b[0m\u001b[0;34m.\u001b[0m\u001b[0mcreate_solver\u001b[0m\u001b[0;34m(\u001b[0m\u001b[0;34m)\u001b[0m\u001b[0;34m\u001b[0m\u001b[0m\n",
      "\u001b[0;32m~/anaconda3/envs/python3/lib/python3.6/site-packages/pysph/solver/application.py\u001b[0m in \u001b[0;36m_setup_logging\u001b[0;34m(self)\u001b[0m\n\u001b[1;32m    619\u001b[0m             \u001b[0mformat\u001b[0m \u001b[0;34m=\u001b[0m \u001b[0;34m'%(levelname)s|%(asctime)s|%(name)s|%(message)s'\u001b[0m\u001b[0;34m\u001b[0m\u001b[0m\n\u001b[1;32m    620\u001b[0m             logging.basicConfig(level=level, format=format,\n\u001b[0;32m--> 621\u001b[0;31m                                 filename=lfn, filemode='a')\n\u001b[0m\u001b[1;32m    622\u001b[0m         \u001b[0;32mif\u001b[0m \u001b[0moptions\u001b[0m\u001b[0;34m.\u001b[0m\u001b[0mprint_log\u001b[0m\u001b[0;34m:\u001b[0m\u001b[0;34m\u001b[0m\u001b[0m\n\u001b[1;32m    623\u001b[0m             \u001b[0mlogger\u001b[0m\u001b[0;34m.\u001b[0m\u001b[0maddHandler\u001b[0m\u001b[0;34m(\u001b[0m\u001b[0mlogging\u001b[0m\u001b[0;34m.\u001b[0m\u001b[0mStreamHandler\u001b[0m\u001b[0;34m(\u001b[0m\u001b[0;34m)\u001b[0m\u001b[0;34m)\u001b[0m\u001b[0;34m\u001b[0m\u001b[0m\n",
      "\u001b[0;32m~/anaconda3/envs/python3/lib/python3.6/logging/__init__.py\u001b[0m in \u001b[0;36mbasicConfig\u001b[0;34m(**kwargs)\u001b[0m\n\u001b[1;32m   1804\u001b[0m                 \u001b[0mmode\u001b[0m \u001b[0;34m=\u001b[0m \u001b[0mkwargs\u001b[0m\u001b[0;34m.\u001b[0m\u001b[0mpop\u001b[0m\u001b[0;34m(\u001b[0m\u001b[0;34m\"filemode\"\u001b[0m\u001b[0;34m,\u001b[0m \u001b[0;34m'a'\u001b[0m\u001b[0;34m)\u001b[0m\u001b[0;34m\u001b[0m\u001b[0m\n\u001b[1;32m   1805\u001b[0m                 \u001b[0;32mif\u001b[0m \u001b[0mfilename\u001b[0m\u001b[0;34m:\u001b[0m\u001b[0;34m\u001b[0m\u001b[0m\n\u001b[0;32m-> 1806\u001b[0;31m                     \u001b[0mh\u001b[0m \u001b[0;34m=\u001b[0m \u001b[0mFileHandler\u001b[0m\u001b[0;34m(\u001b[0m\u001b[0mfilename\u001b[0m\u001b[0;34m,\u001b[0m \u001b[0mmode\u001b[0m\u001b[0;34m)\u001b[0m\u001b[0;34m\u001b[0m\u001b[0m\n\u001b[0m\u001b[1;32m   1807\u001b[0m                 \u001b[0;32melse\u001b[0m\u001b[0;34m:\u001b[0m\u001b[0;34m\u001b[0m\u001b[0m\n\u001b[1;32m   1808\u001b[0m                     \u001b[0mstream\u001b[0m \u001b[0;34m=\u001b[0m \u001b[0mkwargs\u001b[0m\u001b[0;34m.\u001b[0m\u001b[0mpop\u001b[0m\u001b[0;34m(\u001b[0m\u001b[0;34m\"stream\"\u001b[0m\u001b[0;34m,\u001b[0m \u001b[0;32mNone\u001b[0m\u001b[0;34m)\u001b[0m\u001b[0;34m\u001b[0m\u001b[0m\n",
      "\u001b[0;32m~/anaconda3/envs/python3/lib/python3.6/logging/__init__.py\u001b[0m in \u001b[0;36m__init__\u001b[0;34m(self, filename, mode, encoding, delay)\u001b[0m\n\u001b[1;32m   1028\u001b[0m             \u001b[0mself\u001b[0m\u001b[0;34m.\u001b[0m\u001b[0mstream\u001b[0m \u001b[0;34m=\u001b[0m \u001b[0;32mNone\u001b[0m\u001b[0;34m\u001b[0m\u001b[0m\n\u001b[1;32m   1029\u001b[0m         \u001b[0;32melse\u001b[0m\u001b[0;34m:\u001b[0m\u001b[0;34m\u001b[0m\u001b[0m\n\u001b[0;32m-> 1030\u001b[0;31m             \u001b[0mStreamHandler\u001b[0m\u001b[0;34m.\u001b[0m\u001b[0m__init__\u001b[0m\u001b[0;34m(\u001b[0m\u001b[0mself\u001b[0m\u001b[0;34m,\u001b[0m \u001b[0mself\u001b[0m\u001b[0;34m.\u001b[0m\u001b[0m_open\u001b[0m\u001b[0;34m(\u001b[0m\u001b[0;34m)\u001b[0m\u001b[0;34m)\u001b[0m\u001b[0;34m\u001b[0m\u001b[0m\n\u001b[0m\u001b[1;32m   1031\u001b[0m \u001b[0;34m\u001b[0m\u001b[0m\n\u001b[1;32m   1032\u001b[0m     \u001b[0;32mdef\u001b[0m \u001b[0mclose\u001b[0m\u001b[0;34m(\u001b[0m\u001b[0mself\u001b[0m\u001b[0;34m)\u001b[0m\u001b[0;34m:\u001b[0m\u001b[0;34m\u001b[0m\u001b[0m\n",
      "\u001b[0;32m~/anaconda3/envs/python3/lib/python3.6/logging/__init__.py\u001b[0m in \u001b[0;36m_open\u001b[0;34m(self)\u001b[0m\n\u001b[1;32m   1057\u001b[0m         \u001b[0mReturn\u001b[0m \u001b[0mthe\u001b[0m \u001b[0mresulting\u001b[0m \u001b[0mstream\u001b[0m\u001b[0;34m.\u001b[0m\u001b[0;34m\u001b[0m\u001b[0m\n\u001b[1;32m   1058\u001b[0m         \"\"\"\n\u001b[0;32m-> 1059\u001b[0;31m         \u001b[0;32mreturn\u001b[0m \u001b[0mopen\u001b[0m\u001b[0;34m(\u001b[0m\u001b[0mself\u001b[0m\u001b[0;34m.\u001b[0m\u001b[0mbaseFilename\u001b[0m\u001b[0;34m,\u001b[0m \u001b[0mself\u001b[0m\u001b[0;34m.\u001b[0m\u001b[0mmode\u001b[0m\u001b[0;34m,\u001b[0m \u001b[0mencoding\u001b[0m\u001b[0;34m=\u001b[0m\u001b[0mself\u001b[0m\u001b[0;34m.\u001b[0m\u001b[0mencoding\u001b[0m\u001b[0;34m)\u001b[0m\u001b[0;34m\u001b[0m\u001b[0m\n\u001b[0m\u001b[1;32m   1060\u001b[0m \u001b[0;34m\u001b[0m\u001b[0m\n\u001b[1;32m   1061\u001b[0m     \u001b[0;32mdef\u001b[0m \u001b[0memit\u001b[0m\u001b[0;34m(\u001b[0m\u001b[0mself\u001b[0m\u001b[0;34m,\u001b[0m \u001b[0mrecord\u001b[0m\u001b[0;34m)\u001b[0m\u001b[0;34m:\u001b[0m\u001b[0;34m\u001b[0m\u001b[0m\n",
      "\u001b[0;31mFileNotFoundError\u001b[0m: [Errno 2] No such file or directory: '/home/ec2-user/SageMaker/PySPH/model/Data.npz_output/model/Data.npz.log'"
     ]
    }
   ],
   "source": [
    "#SageMaker実行時、実行前にカーネルをリスタートすること\n",
    "\n",
    "from pysph.solver.application import Application\n",
    "\n",
    "from numpy import ones_like, mgrid, sqrt\n",
    "\n",
    "from pysph.base.utils import get_particle_array\n",
    "from pysph.base.utils import get_particle_array_wcsph\n",
    "from pysph.base.kernels import CubicSpline,Gaussian\n",
    "\n",
    "from pysph.solver.solver import Solver\n",
    "from pysph.sph.integrator import EPECIntegrator,EulerIntegrator\n",
    "from pysph.sph.integrator_step import WCSPHStep,EulerStep\n",
    "\n",
    "from pysph.sph.equation import Group\n",
    "from pysph.sph.basic_equations import XSPHCorrection, ContinuityEquation\n",
    "from pysph.sph.wc.basic import TaitEOS, MomentumEquation\n",
    "#define Step--------------------------------------------------------------------------------------------------\n",
    "from pysph.sph.integrator_step import IntegratorStep\n",
    "class WCSPHStep2(IntegratorStep):\n",
    "    def initialize(self, d_idx, d_x0, d_y0, d_z0, d_x, d_y, d_z,\n",
    "                   d_u0, d_v0, d_w0, d_u, d_v, d_w, d_rho0, d_rho):\n",
    "        d_x0[d_idx] = d_x[d_idx]\n",
    "        d_y0[d_idx] = d_y[d_idx]\n",
    "        d_z0[d_idx] = d_z[d_idx]\n",
    "\n",
    "        d_u0[d_idx] = d_u[d_idx]\n",
    "        d_v0[d_idx] = d_v[d_idx]\n",
    "        d_w0[d_idx] = d_w[d_idx]\n",
    "        \n",
    "        d_rho0[d_idx] = d_rho[d_idx]\n",
    "\n",
    "    def stage1(self, d_idx, d_x0, d_y0, d_z0, d_x, d_y, d_z,\n",
    "                   d_u0, d_v0, d_w0, d_u, d_v, d_w, d_rho0, d_rho, d_au, d_av,\n",
    "                   d_aw, d_ax, d_ay, d_az, d_arho, dt):\n",
    "        dtb2 = 0.5*dt\n",
    "        d_u[d_idx] = d_u0[d_idx] + dtb2*d_au[d_idx]\n",
    "        d_v[d_idx] = d_v0[d_idx] + dtb2*d_av[d_idx]\n",
    "        d_w[d_idx] = d_w0[d_idx] + dtb2*d_aw[d_idx]\n",
    "\n",
    "        d_x[d_idx] = d_x0[d_idx] + dtb2 * d_ax[d_idx]\n",
    "        d_y[d_idx] = d_y0[d_idx] + dtb2 * d_ay[d_idx]\n",
    "        d_z[d_idx] = d_z0[d_idx] + dtb2 * d_az[d_idx]\n",
    "\n",
    "        # Update densities and smoothing lengths from the accelerations\n",
    "        d_rho[d_idx] = d_rho0[d_idx] + dtb2 * d_arho[d_idx]\n",
    "\n",
    "\n",
    "    def stage2(self, d_idx, d_x0, d_y0, d_z0, d_x, d_y, d_z,\n",
    "                   d_u0, d_v0, d_w0, d_u, d_v, d_w, d_rho0, d_rho, d_au, d_av,\n",
    "                   d_aw, d_ax, d_ay, d_az, d_arho, dt):\n",
    "\n",
    "        d_u[d_idx] = d_u0[d_idx] + dt*d_au[d_idx]\n",
    "        d_v[d_idx] = d_v0[d_idx] + dt*d_av[d_idx]\n",
    "        d_w[d_idx] = d_w0[d_idx] + dt*d_aw[d_idx]\n",
    "\n",
    "        d_x[d_idx] = d_x0[d_idx] + dt * d_ax[d_idx]\n",
    "        d_y[d_idx] = d_y0[d_idx] + dt * d_ay[d_idx]\n",
    "        d_z[d_idx] = d_z0[d_idx] + dt * d_az[d_idx]\n",
    "\n",
    "        # Update densities and smoothing lengths from the accelerations\n",
    "        d_rho[d_idx] = d_rho0[d_idx] + dt * d_arho[d_idx]\n",
    "#define Application--------------------------------------------------------------------------------------------\n",
    "class Test(Application):\n",
    "    def initialize(self):\n",
    "        import json\n",
    "        with open(param_path, mode='r') as f:\n",
    "            par = json.load(f)        \n",
    "        self.co = float(par['co'])\n",
    "        self.ro = float(par['ro'])\n",
    "        self.hdx = float(par['hdx'])\n",
    "        self.dx = float(par['dx'])\n",
    "        self.alpha = float(par['alpha'])\n",
    "        self.dt = float(par['dt'])\n",
    "        self.tf = float(par['tf'])\n",
    "        \n",
    "    def create_solver(self):\n",
    "        kernel = CubicSpline(dim=2)\n",
    "\n",
    "        integrator = EPECIntegrator(fluid=WCSPHStep2())\n",
    "\n",
    "        solver = Solver(kernel=kernel, dim=2, integrator=integrator,\n",
    "                        dt=self.dt, tf=self.tf,pfreq=10)\n",
    "\n",
    "        return solver\n",
    "\n",
    "    def create_equations(self):\n",
    "        equations = [\n",
    "            Group(\n",
    "                equations=[\n",
    "                    TaitEOS(\n",
    "                        dest='fluid', sources=None, \n",
    "                        rho0=self.ro,c0=self.co, gamma=7.0\n",
    "                    ),\n",
    "                ],\n",
    "                real=False\n",
    "            ),\n",
    "            Group(equations=[\n",
    "                ContinuityEquation(dest='fluid',  sources=['fluid']),\n",
    "                MomentumEquation(\n",
    "                    dest='fluid', sources=['fluid'],\n",
    "                    alpha=self.alpha, beta=0.0, c0=self.co\n",
    "                ),\n",
    "                XSPHCorrection(\n",
    "                    dest='fluid', sources=['fluid'], eps=0.0)\n",
    "            ]),\n",
    "        ]\n",
    "        return equations    \n",
    "\n",
    "    def create_particles(self):\n",
    "        \"\"\"Create the circular patch of fluid.\"\"\"\n",
    "        name = 'fluid'\n",
    "        dx=self.dx\n",
    "        hdx=self.hdx\n",
    "        ro=self.ro\n",
    "\n",
    "        x, y = mgrid[-1.05:1.05+1e-4:dx, -1.05:1.05+1e-4:dx]\n",
    "        x = x.ravel()\n",
    "        y = y.ravel()\n",
    "\n",
    "        m = ones_like(x)*dx*dx*ro\n",
    "        h = ones_like(x)*hdx*dx\n",
    "        rho = ones_like(x) *ro\n",
    "        u = -100*x\n",
    "        v = 100*y\n",
    "\n",
    "        # remove particles outside the circle\n",
    "        indices = []\n",
    "        for i in range(len(x)):\n",
    "            if sqrt(x[i]*x[i] + y[i]*y[i]) - 1 > 1e-10:\n",
    "                indices.append(i)\n",
    "\n",
    "        pa = get_particle_array_wcsph(x=x, y=y, m=m, rho=rho, h=h, u=u, v=v,\n",
    "                                name=name)\n",
    "        pa.remove_particles(indices)\n",
    "\n",
    "        print(\"Elliptical drop :: %d particles\"\n",
    "              % (pa.get_number_of_particles()))\n",
    "\n",
    "        pa.set_output_arrays(['x','y','u', 'v', 'rho', 'h', 'p', 'pid', 'tag', 'gid'])\n",
    "        return [pa]\n",
    "    \n",
    "if __name__ == '__main__':\n",
    "    app = Test(fname=model_path+\"Data\")\n",
    "    app.run()    "
   ]
  },
  {
   "cell_type": "markdown",
   "metadata": {},
   "source": [
    "上の内容をファイルcalculate.pyに保存\n",
    "\n"
   ]
  },
  {
   "cell_type": "code",
   "execution_count": null,
   "metadata": {},
   "outputs": [],
   "source": []
  },
  {
   "cell_type": "markdown",
   "metadata": {},
   "source": [
    "### シミュレーションのdockerイメージをECRに送信"
   ]
  },
  {
   "cell_type": "code",
   "execution_count": 6,
   "metadata": {},
   "outputs": [
    {
     "name": "stdout",
     "output_type": "stream",
     "text": [
      "Login Succeeded\n",
      "Sending build context to Docker daemon  359.8MB\r",
      "\r\n",
      "Step 1/16 : FROM nvidia/opencl:devel-ubuntu16.04\n",
      " ---> 58144534b0c2\n",
      "Step 2/16 : MAINTAINER bamboowonsstring <extra.excramattion1@gmail.com>\n",
      " ---> Using cache\n",
      " ---> 9e54f51724a0\n",
      "Step 3/16 : RUN apt-get -y update && apt-get install -y         wget          python3          python3-pip          ca-certificates          python3-dev\n",
      " ---> Using cache\n",
      " ---> bd9c000e144f\n",
      "Step 4/16 : RUN apt-get install -y build-essential\n",
      " ---> Using cache\n",
      " ---> 7378814cf127\n",
      "Step 5/16 : RUN apt-get install -y python3-numpy\n",
      " ---> Using cache\n",
      " ---> 24370285be6d\n",
      "Step 6/16 : RUN apt-get install -y python3-pytest\n",
      " ---> Using cache\n",
      " ---> 51b3914ca914\n",
      "Step 7/16 : RUN apt-get install -y cython3\n",
      " ---> Using cache\n",
      " ---> 6e6a3aeb95bb\n",
      "Step 8/16 : RUN pip3 install pytools\n",
      " ---> Using cache\n",
      " ---> 15bd52abc305\n",
      "Step 9/16 : RUN pip3 install h5py\n",
      " ---> Running in 27371a2ed34d\n",
      "Collecting h5py\n",
      "  Downloading https://files.pythonhosted.org/packages/4c/77/c4933e12dca0f61bcdafc207c7532e1250b8d12719459fd85132f3daa9fd/h5py-2.9.0-cp35-cp35m-manylinux1_x86_64.whl (2.8MB)\n",
      "Requirement already satisfied (use --upgrade to upgrade): six in /usr/local/lib/python3.5/dist-packages (from h5py)\n",
      "Requirement already satisfied (use --upgrade to upgrade): numpy>=1.7 in /usr/lib/python3/dist-packages (from h5py)\n",
      "Installing collected packages: h5py\n",
      "Successfully installed h5py-2.9.0\n",
      "\u001b[91mYou are using pip version 8.1.1, however version 19.0.3 is available.\n",
      "You should consider upgrading via the 'pip install --upgrade pip' command.\n",
      "\u001b[0mRemoving intermediate container 27371a2ed34d\n",
      " ---> d969d9025b35\n",
      "Step 10/16 : RUN pip3 install pysph\n",
      " ---> Running in c32a221ba22d\n",
      "Collecting pysph\n",
      "  Downloading https://files.pythonhosted.org/packages/a9/a0/0d6921b06a18d8914b0b2ec6aa1736205b9c5cc715f88a9456260d96ba0d/PySPH-1.0a6.tar.gz (2.7MB)\n",
      "Requirement already satisfied (use --upgrade to upgrade): numpy in /usr/lib/python3/dist-packages (from pysph)\n",
      "Collecting mako (from pysph)\n",
      "  Downloading https://files.pythonhosted.org/packages/eb/69/6137c60cae2ab8c911bff510bb6d1d23a0189f75d114bb277606c6486b5f/Mako-1.0.8.tar.gz (468kB)\n",
      "Requirement already satisfied (use --upgrade to upgrade): Cython>=0.20 in /usr/lib/python3/dist-packages (from pysph)\n",
      "Requirement already satisfied (use --upgrade to upgrade): setuptools>=6.0 in /usr/lib/python3/dist-packages (from pysph)\n",
      "Collecting pytest>=3.0 (from pysph)\n",
      "  Downloading https://files.pythonhosted.org/packages/7e/16/83b2a35c427b838df9836c9e7e4ae6dfbcbdea643db44652f693b1c57d70/pytest-4.4.0-py2.py3-none-any.whl (223kB)\n",
      "Collecting MarkupSafe>=0.9.2 (from mako->pysph)\n",
      "  Downloading https://files.pythonhosted.org/packages/6e/57/d40124076756c19ff2269678de7ae25a14ebbb3f6314eb5ce9477f191350/MarkupSafe-1.1.1-cp35-cp35m-manylinux1_x86_64.whl\n",
      "Collecting py>=1.5.0 (from pytest>=3.0->pysph)\n",
      "  Downloading https://files.pythonhosted.org/packages/76/bc/394ad449851729244a97857ee14d7cba61ddb268dce3db538ba2f2ba1f0f/py-1.8.0-py2.py3-none-any.whl (83kB)\n",
      "Collecting more-itertools>=4.0.0; python_version > \"2.7\" (from pytest>=3.0->pysph)\n",
      "  Downloading https://files.pythonhosted.org/packages/b3/73/64fb5922b745fc1daee8a2880d907d2a70d9c7bb71eea86fcb9445daab5e/more_itertools-7.0.0-py3-none-any.whl (53kB)\n",
      "Collecting pluggy>=0.9 (from pytest>=3.0->pysph)\n",
      "  Downloading https://files.pythonhosted.org/packages/84/e8/4ddac125b5a0e84ea6ffc93cfccf1e7ee1924e88f53c64e98227f0af2a5f/pluggy-0.9.0-py2.py3-none-any.whl\n",
      "Collecting atomicwrites>=1.0 (from pytest>=3.0->pysph)\n",
      "  Downloading https://files.pythonhosted.org/packages/52/90/6155aa926f43f2b2a22b01be7241be3bfd1ceaf7d0b3267213e8127d41f4/atomicwrites-1.3.0-py2.py3-none-any.whl\n",
      "Requirement already satisfied (use --upgrade to upgrade): six>=1.10.0 in /usr/local/lib/python3.5/dist-packages (from pytest>=3.0->pysph)\n",
      "Collecting pathlib2>=2.2.0; python_version < \"3.6\" (from pytest>=3.0->pysph)\n",
      "  Downloading https://files.pythonhosted.org/packages/2a/46/c696dcf1c7aad917b39b875acdc5451975e3a9b4890dca8329983201c97a/pathlib2-2.3.3-py2.py3-none-any.whl\n",
      "Collecting attrs>=17.4.0 (from pytest>=3.0->pysph)\n",
      "  Downloading https://files.pythonhosted.org/packages/23/96/d828354fa2dbdf216eaa7b7de0db692f12c234f7ef888cc14980ef40d1d2/attrs-19.1.0-py2.py3-none-any.whl\n",
      "Building wheels for collected packages: pysph, mako\n",
      "  Running setup.py bdist_wheel for pysph: started\n",
      "  Running setup.py bdist_wheel for pysph: still running...\n",
      "  Running setup.py bdist_wheel for pysph: finished with status 'done'\n",
      "  Stored in directory: /root/.cache/pip/wheels/2c/79/87/a32507374f25e4b017c3dd2e5b2b31a849b8ff9a5b814edc6d\n",
      "  Running setup.py bdist_wheel for mako: started\n",
      "  Running setup.py bdist_wheel for mako: finished with status 'done'\n",
      "  Stored in directory: /root/.cache/pip/wheels/b9/42/3c/79032e33bb2dfae60a10a6133f828a4a99ae46d33a2d323944\n",
      "Successfully built pysph mako\n",
      "Installing collected packages: MarkupSafe, mako, py, more-itertools, pluggy, atomicwrites, pathlib2, attrs, pytest, pysph\n",
      "  Found existing installation: py 1.4.31\n",
      "    Not uninstalling py at /usr/lib/python3/dist-packages, outside environment /usr\n",
      "  Found existing installation: pytest 2.8.7\n",
      "    Not uninstalling pytest at /usr/lib/python3/dist-packages, outside environment /usr\n",
      "Successfully installed MarkupSafe-1.1.1 atomicwrites-1.3.0 attrs-19.1.0 mako-1.0.8 more-itertools-7.0.0 pathlib2-2.3.3 pluggy-0.9.0 py-1.8.0 pysph-1.0a6 pytest-4.4.0\n",
      "\u001b[91mYou are using pip version 8.1.1, however version 19.0.3 is available.\n",
      "You should consider upgrading via the 'pip install --upgrade pip' command.\n",
      "\u001b[0mRemoving intermediate container c32a221ba22d\n",
      " ---> 58de7f75ccae\n",
      "Step 11/16 : ENV PYTHONUNBUFFERED=TRUE\n",
      " ---> Running in 741cd2847b2b\n",
      "Removing intermediate container 741cd2847b2b\n",
      " ---> c0e31a73414f\n",
      "Step 12/16 : ENV PYTHONDONTWRITEBYTECODE=TRUE\n",
      " ---> Running in f15b720f09ca\n",
      "Removing intermediate container f15b720f09ca\n",
      " ---> 1d714c11c8fb\n",
      "Step 13/16 : ENV PATH=\"/opt/program:${PATH}\"\n",
      " ---> Running in c58e72e1ddca\n",
      "Removing intermediate container c58e72e1ddca\n",
      " ---> dfd2257121a4\n",
      "Step 14/16 : COPY calculate.py /opt/program/\n",
      " ---> ce31f85e19fa\n",
      "Step 15/16 : COPY train /opt/program/\n",
      " ---> 71accd48ced1\n",
      "Step 16/16 : WORKDIR /opt/program\n",
      " ---> Running in daca1c062f90\n",
      "Removing intermediate container daca1c062f90\n",
      " ---> 71d5dd0a3292\n",
      "Successfully built 71d5dd0a3292\n",
      "Successfully tagged psph:latest\n",
      "The push refers to repository [682741310571.dkr.ecr.us-east-2.amazonaws.com/psph]\n",
      "a29c815157c8: Preparing\n",
      "e383323a18a6: Preparing\n",
      "894d3968c89e: Preparing\n",
      "43452de21aef: Preparing\n",
      "a25ec3776736: Preparing\n",
      "58625289a44e: Preparing\n",
      "a4ad6267a1df: Preparing\n",
      "d9f6987f1586: Preparing\n",
      "45f6a5d3d4b3: Preparing\n",
      "07fdfa1e9bc2: Preparing\n",
      "e5ccf27e3d01: Preparing\n",
      "be2164332f98: Preparing\n",
      "3e24bdfb3a32: Preparing\n",
      "68dda0c9a8cd: Preparing\n",
      "f67191ae09b8: Preparing\n",
      "b2fd8b4c3da7: Preparing\n",
      "0de2edf7bff4: Preparing\n",
      "07fdfa1e9bc2: Waiting\n",
      "e5ccf27e3d01: Waiting\n",
      "be2164332f98: Waiting\n",
      "3e24bdfb3a32: Waiting\n",
      "68dda0c9a8cd: Waiting\n",
      "f67191ae09b8: Waiting\n",
      "b2fd8b4c3da7: Waiting\n",
      "0de2edf7bff4: Waiting\n",
      "58625289a44e: Waiting\n",
      "a4ad6267a1df: Waiting\n",
      "d9f6987f1586: Waiting\n",
      "45f6a5d3d4b3: Waiting\n",
      "a25ec3776736: Layer already exists\n",
      "58625289a44e: Layer already exists\n",
      "a4ad6267a1df: Layer already exists\n",
      "d9f6987f1586: Layer already exists\n",
      "e383323a18a6: Pushed\n",
      "a29c815157c8: Pushed\n",
      "45f6a5d3d4b3: Layer already exists\n",
      "07fdfa1e9bc2: Layer already exists\n",
      "e5ccf27e3d01: Layer already exists\n",
      "be2164332f98: Layer already exists\n",
      "3e24bdfb3a32: Layer already exists\n",
      "68dda0c9a8cd: Layer already exists\n",
      "f67191ae09b8: Layer already exists\n",
      "b2fd8b4c3da7: Layer already exists\n",
      "0de2edf7bff4: Layer already exists\n",
      "43452de21aef: Pushed\n",
      "894d3968c89e: Pushed\n",
      "latest: digest: sha256:9e06e0a762d5cf3bca8c5041bfd746fdce8153fcbbb924ac3663ce324cc9fa66 size: 3877\n",
      "\n"
     ]
    }
   ],
   "source": [
    "from __future__ import print_function\n",
    "import subprocess\n",
    "try:\n",
    "    print (subprocess.check_output(['./build_and_push.sh', 'psph']).decode('utf-8'))\n",
    "except subprocess.CalledProcessError as e:\n",
    "    print(e.output)"
   ]
  },
  {
   "cell_type": "markdown",
   "metadata": {},
   "source": [
    "### Dockerイメージのテスト"
   ]
  },
  {
   "cell_type": "code",
   "execution_count": 7,
   "metadata": {},
   "outputs": [
    {
     "name": "stdout",
     "output_type": "stream",
     "text": [
      "rm: cannot remove ‘test_dir/model/Data_output’: Is a directory\n",
      "rm: cannot remove ‘test_dir/model/_output’: Is a directory\n",
      "Elliptical drop :: 5025 particles\n",
      "Generating output in /opt/ml/model/Data_output\n",
      "Compiling code at: /root/.pysph/source/py3.5-linux-x86_64/m_4f6a4a3732bc11d302bd13b26f54cfac.pyx\n",
      "No of particles:\n",
      "----------------------------------------------------------------------\n",
      "  fluid: 5025\n",
      "----------------------------------------------------------------------\n",
      "Setup took: 5.35927 secs\n",
      "100%\n",
      "Run took: 22.87523 secs\n"
     ]
    }
   ],
   "source": [
    "!cp par.json test_dir/input/config/hyperparameters.json\n",
    "!./train_local.sh psph"
   ]
  },
  {
   "cell_type": "markdown",
   "metadata": {},
   "source": [
    "### S3に送信"
   ]
  },
  {
   "cell_type": "code",
   "execution_count": 10,
   "metadata": {},
   "outputs": [],
   "source": [
    "from sagemaker import get_execution_role\n",
    "import sagemaker as sage\n",
    "import os\n",
    "import boto3\n",
    "resource = boto3.resource('s3') \n",
    "my_bucket = resource.Bucket('sagemaker-bucket03')#使用するS3バケット\n",
    "\n",
    "# my_bucket.upload_file('scheme.pickle',Key='sph/pplication_structure/scheme.pickle')"
   ]
  },
  {
   "cell_type": "markdown",
   "metadata": {},
   "source": [
    "## シミュレーション"
   ]
  },
  {
   "cell_type": "code",
   "execution_count": 11,
   "metadata": {},
   "outputs": [],
   "source": [
    "role = get_execution_role()\n",
    "sess = sage.Session()\n",
    "\n",
    "# ECSに保存するDocker image名 \n",
    "# タグはデフォルトで'latest'になる\n",
    "imagename = 'psph'\n",
    "\n",
    "account = sess.boto_session.client('sts').get_caller_identity()['Account']\n",
    "region = sess.boto_session.region_name\n",
    "image = '{}.dkr.ecr.{}.amazonaws.com/{}'.format(account, region, imagename)\n",
    "\n",
    "# トレーニングジョブ\n",
    "# 出力先、使用するインスタンスを指定\n",
    "sph = sage.estimator.Estimator(image,\n",
    "                       role, 1, 'ml.c5.4xlarge',\n",
    "                       output_path=\"s3://sagemaker-bucket03/sph/output\",\n",
    "                       sagemaker_session=sess)\n"
   ]
  },
  {
   "cell_type": "code",
   "execution_count": 13,
   "metadata": {},
   "outputs": [
    {
     "name": "stderr",
     "output_type": "stream",
     "text": [
      "INFO:sagemaker:Creating training-job with name: psph6-dx--0-02\n"
     ]
    },
    {
     "name": "stdout",
     "output_type": "stream",
     "text": [
      "psph6-dx--0-02\n",
      "2019-04-01 08:24:17 Starting - Starting the training job...\n",
      "2019-04-01 08:24:18 Starting - Launching requested ML instances...\n",
      "2019-04-01 08:25:15 Starting - Preparing the instances for training...\n",
      "2019-04-01 08:25:44 Downloading - Downloading input data\n",
      "2019-04-01 08:25:44 Training - Downloading the training image...\n",
      "2019-04-01 08:26:04 Training - Training image download completed. Training in progress.\n",
      "\u001b[31mElliptical drop :: 7860 particles\u001b[0m\n",
      "\u001b[31mGenerating output in /opt/ml/model/Data_output\u001b[0m\n",
      "\u001b[31mCompiling code at: /root/.pysph/source/py3.5-linux-x86_64/m_4f6a4a3732bc11d302bd13b26f54cfac.pyx\u001b[0m\n",
      "\u001b[31mNo of particles:\u001b[0m\n",
      "\u001b[31m----------------------------------------------------------------------\n",
      "  fluid: 7860\u001b[0m\n",
      "\u001b[31m----------------------------------------------------------------------\u001b[0m\n",
      "\u001b[31mSetup took: 4.15605 secs\u001b[0m\n",
      "\u001b[31m#0150%#0150%#0150%#0150%#0150%#0150%#0150%#0150%#0150%#0150%#0151%#0151%#0151%#0151%#0151%#0151%#0151%#0151%#0151%#0151%#0152%#0152%#0152%#0152%#0152%#0152%#0152%#0152%#0152%#0152%#0153%#0153%#0153%#0153%#0153%#0153%#0153%#0153%#0153%#0153%#0154%#0154%#0154%#0154%#0154%#0154%#0154%#0154%#0154%#0154%#0155%#0155%#0155%#0155%#0155%#0155%#0155%#0155%#0155%#0155%#0156%#0156%#0156%#0156%#0156%#0156%#0156%#0156%#0156%#0156%#0157%#0157%#0157%#0157%#0157%#0157%#0157%#0157%#0157%#0157%#0158%#0158%#0158%#0158%#0158%#0158%#0158%#0158%#0158%#0158%#0159%#0159%#0159%#0159%#0159%#0159%#0159%#0159%#0159%#0159%#01510%#01510%#01510%#01510%#01510%#01510%#01510%#01510%#01510%#01510%#01511%#01511%#01511%#01511%#01511%#01511%#01511%#01511%#01511%#01511%#01512%#01512%#01512%#01512%#01512%#01512%#01512%#01512%#01512%#01512%#01513%#01513%#01513%#01513%#01513%#01513%#01513%#01513%#01513%#01513%#01514%#01514%#01514%#01514%#01514%#01514%#01514%#01514%#01514%#01514%#01515%#01515%#01515%#01515%#01515%#01515%#01515%#01515%#01515%#01515%#01516%#01516%#01516%#01516%#01516%#01516%#01516%#01516%#01516%#01516%#01517%#01517%#01517%#01517%#01517%#01517%#01517%#01517%#01517%#01517%#01518%#01518%#01518%#01518%#01518%#01518%#01518%#01518%#01518%#01518%#01519%#01519%#01519%#01519%#01519%#01519%#01519%#01519%#01519%#01519%#01520%#01520%#01520%#01520%#01520%#01520%#01520%#01520%#01520%#01520%#01521%#01521%#01521%#01521%#01521%#01521%#01521%#01521%#01521%#01521%#01522%#01522%#01522%#01522%#01522%#01522%#01522%#01522%#01522%#01522%#01523%#01523%#01523%#01523%#01523%#01523%#01523%#01523%#01523%#01523%#01524%#01524%#01524%#01524%#01524%#01524%#01524%#01524%#01524%#01524%#01525%#01525%#01525%#01525%#01525%#01525%#01525%#01525%#01525%#01525%#01526%#01526%#01526%#01526%#01526%#01526%#01526%#01526%#01526%#01526%#01527%#01527%#01527%#01527%#01527%#01527%#01527%#01527%#01527%#01527%#01528%#01528%#01528%#01528%#01528%#01528%#01528%#01528%#01528%#01528%#01529%#01529%#01529%#01529%#01529%#01529%#01529%#01529%#01529%#01529%#01530%#01530%#01530%#01530%#01530%#01530%#01530%#01530%#01530%#01530%#01531%#01531%#01531%#01531%#01531%#01531%#01531%#01531%#01531%#01531%#01532%#01532%#01532%#01532%#01532%#01532%#01532%#01532%#01532%#01532%#01533%#01533%#01533%#01533%#01533%#01533%#01533%#01533%#01533%#01533%#01534%#01534%#01534%#01534%#01534%#01534%#01534%#01534%#01534%#01534%#01535%#01535%#01535%#01535%#01535%#01535%#01535%#01535%#01535%#01535%#01536%#01536%#01536%#01536%#01536%#01536%#01536%#01536%#01536%#01536%#01537%#01537%#01537%#01537%#01537%#01537%#01537%#01537%#01537%#01537%#01538%#01538%#01538%#01538%#01538%#01538%#01538%#01538%#01538%#01538%#01539%#01539%#01539%#01539%#01539%#01539%#01539%#01539%#01539%#01539%#01540%#01540%#01540%#01540%#01540%#01540%#01540%#01540%#01540%#01540%#01541%#01541%#01541%#01541%#01541%#01541%#01541%#01541%#01541%#01541%#01542%#01542%#01542%#01542%#01542%#01542%#01542%#01542%#01542%#01542%#01543%#01543%#01543%#01543%#01543%#01543%#01543%#01543%#01543%#01543%#01544%#01544%#01544%#01544%#01544%#01544%#01544%#01544%#01544%#01544%#01545%#01545%#01545%#01545%#01545%#01545%#01545%#01545%#01545%#01545%#01546%#01546%#01546%#01546%#01546%#01546%#01546%#01546%#01546%#01546%#01547%#01547%#01547%#01547%#01547%#01547%#01547%#01547%#01547%#01547%#01548%#01548%#01548%#01548%#01548%#01548%#01548%#01548%#01548%#01548%#01549%#01549%#01549%#01549%#01549%#01549%#01549%#01549%#01549%#01549%#01550%#01550%#01550%#01550%#01550%#01550%#01550%#01550%#01550%#01550%#01551%#01551%#01551%#01551%#01551%#01551%#01551%#01551%#01551%#01551%#01552%#01552%#01552%#01552%#01552%#01552%#01552%#01552%#01552%#01552%#01553%#01553%#01553%#01553%#01553%#01553%#01553%#01553%#01553%#01553%#01554%#01554%#01554%#01554%#01554%#01554%#01554%#01554%#01554%#01554%#01555%#01555%#01555%#01555%#01555%#01555%#01555%#01555%#01555%#01555%#01556%#01556%#01556%#01556%#01556%#01556%#01556%#01556%#01556%#01556%#01557%#01557%#01557%#01557%#01557%#01557%#01557%#01557%#01557%#01557%#01558%#01558%#01558%#01558%#01558%#01558%#01558%#01558%#01558%#01558%#01559%#01559%#01559%#01559%#01559%#01559%#01559%#01559%#01559%#01559%#01560%#01560%#01560%#01560%#01560%#01560%#01560%#01560%#01560%#01560%#01561%#01561%#01561%#01561%#01561%#01561%#01561%#01561%#01561%#01561%#01562%#01562%#01562%#01562%#01562%#01562%#01562%#01562%#01562%#01562%#01563%#01563%#01563%#01563%#01563%#01563%#01563%#01563%#01563%#01563%#01564%#01564%#01564%#01564%#01564%#01564%#01564%#01564%#01564%#01564%#01565%#01565%#01565%#01565%#01565%#01565%#01565%#01565%#01565%#01565%#01566%#01566%#01566%#01566%#01566%#01566%#01566%#01566%#01566%#01566%#01567%#01567%#01567%#01567%#01567%#01567%#01567%#01567%#01567%#01567%#01568%#01568%#01568%#01568%#01568%#01568%#01568%#01568%#01568%#01568%#01569%#01569%#01569%#01569%#01569%#01569%#01569%#01569%#01569%#01569%#01570%#01570%#01570%#01570%#01570%#01570%#01570%#01570%#01570%#01570%#01571%#01571%#01571%#01571%#01571%#01571%#01571%#01571%#01571%#01571%#01572%#01572%#01572%#01572%#01572%#01572%#01572%#01572%#01572%#01572%#01573%#01573%#01573%#01573%#01573%#01573%#01573%#01573%#01573%#01573%#01574%#01574%#01574%#01574%#01574%#01574%#01574%#01574%#01574%#01574%#01575%#01575%#01575%#01575%#01575%#01575%#01575%#01575%#01575%#01575%#01576%#01576%#01576%#01576%#01576%#01576%#01576%#01576%#01576%#01576%#01577%#01577%#01577%#01577%#01577%#01577%#01577%#01577%#01577%#01577%#01578%#01578%#01578%#01578%#01578%#01578%#01578%#01578%#01578%#01578%#01579%#01579%#01579%#01579%#01579%#01579%#01579%#01579%#01579%#01579%#01580%#01580%#01580%#01580%#01580%#01580%#01580%#01580%#01580%#01580%#01581%#01581%#01581%#01581%#01581%#01581%#01581%#01581%#01581%#01581%#01582%#01582%#01582%#01582%#01582%#01582%#01582%#01582%#01582%#01582%#01583%#01583%#01583%#01583%#01583%#01583%#01583%#01583%#01583%#01583%#01584%#01584%#01584%#01584%#01584%#01584%#01584%#01584%#01584%#01584%#01585%#01585%#01585%#01585%#01585%#01585%#01585%#01585%#01585%#01585%#01586%#01586%#01586%#01586%#01586%#01586%#01586%#01586%#01586%#01586%#01587%#01587%#01587%#01587%#01587%#01587%#01587%#01587%#01587%#01587%#01588%#01588%#01588%#01588%#01588%#01588%#01588%#01588%#01588%#01588%#01589%#01589%#01589%#01589%#01589%#01589%#01589%#01589%#01589%#01589%#01590%#01590%#01590%#01590%#01590%#01590%#01590%#01590%#01590%#01590%#01591%#01591%#01591%#01591%#01591%#01591%#01591%#01591%#01591%#01591%#01592%#01592%#01592%#01592%#01592%#01592%#01592%#01592%#01592%#01592%#01593%#01593%#01593%#01593%#01593%#01593%#01593%#01593%#01593%#01593%#01594%#01594%#01594%#01594%#01594%#01594%#01594%#01594%#01594%#01594%#01595%#01595%#01595%#01595%#01595%#01595%#01595%#01595%#01595%#01595%#01596%#01596%#01596%#01596%#01596%#01596%#01596%#01596%#01596%#01596%#01597%#01597%#01597%#01597%#01597%#01597%#01597%#01597%#01597%#01597%#01598%#01598%#01598%#01598%#01598%#01598%#01598%#01598%#01598%#01598%#01599%#01599%#01599%#01599%#01599%#01599%#01599%#01599%#01599%#01599%#015100%#015100%\u001b[0m\n",
      "\u001b[31mRun took: 14.55425 secs\u001b[0m\n",
      "\n",
      "2019-04-01 08:26:30 Uploading - Uploading generated training model\n",
      "2019-04-01 08:26:30 Completed - Training job completed\n",
      "Billable seconds: 48\n"
     ]
    }
   ],
   "source": [
    "from numpy import arange\n",
    "\n",
    "job_names=[]\n",
    "\n",
    "for dx in arange(0.02,0.1,0.08):\n",
    "    paramet['dx']=dx\n",
    "    jobname=\"psph6-dx--{}\".format(dx).replace('.','-')\n",
    "    print(jobname)\n",
    "    job_names.append(jobname)\n",
    "    #シミュレーションに使用するパラメータ\n",
    "    sph.hyperparam_dict = paramet\n",
    "    # superradiance.fit(\"s3://sagemaker-bucket03/sph/application_structure\")\n",
    "    sph.fit(None,job_name=jobname)"
   ]
  },
  {
   "cell_type": "markdown",
   "metadata": {},
   "source": [
    "## 後処理"
   ]
  },
  {
   "cell_type": "code",
   "execution_count": 14,
   "metadata": {},
   "outputs": [
    {
     "data": {
      "text/plain": [
       "['psph6-dx--0-02']"
      ]
     },
     "execution_count": 14,
     "metadata": {},
     "output_type": "execute_result"
    }
   ],
   "source": [
    "job_names"
   ]
  },
  {
   "cell_type": "code",
   "execution_count": 18,
   "metadata": {},
   "outputs": [],
   "source": [
    "import os\n",
    "import boto3\n",
    "resource = boto3.resource('s3') \n",
    "my_bucket = resource.Bucket('sagemaker-bucket03')#使用するS3バケット\n",
    "\n",
    "import tarfile\n",
    "\n",
    "# 結果取得\n",
    "#job_name= sph.latest_training_job.name\n",
    "job_name = job_names[0]\n",
    "#job_name='psph5-dx--0-02'\n",
    "results = my_bucket.Object('sph/output/{}/output/model.tar.gz'.format(job_name))\n",
    "tempfile = '/home/ec2-user/SageMaker/model.tar.gz'   \n",
    "results.download_file(tempfile)   \n",
    "\n",
    "#  展開\n",
    "tar = tarfile.open(tempfile, \"r:gz\")\n",
    "tar.extractall(path = './Data')"
   ]
  },
  {
   "cell_type": "code",
   "execution_count": 26,
   "metadata": {},
   "outputs": [
    {
     "name": "stdout",
     "output_type": "stream",
     "text": [
      "Printing log : \n",
      "\n",
      "\n"
     ]
    },
    {
     "ename": "IndexError",
     "evalue": "list index out of range",
     "output_type": "error",
     "traceback": [
      "\u001b[0;31m---------------------------------------------------------------------------\u001b[0m",
      "\u001b[0;31mIndexError\u001b[0m                                Traceback (most recent call last)",
      "\u001b[0;32m<ipython-input-26-595df15deb1f>\u001b[0m in \u001b[0;36m<module>\u001b[0;34m()\u001b[0m\n\u001b[1;32m      2\u001b[0m \u001b[0;32mfrom\u001b[0m \u001b[0mpysph\u001b[0m\u001b[0;34m.\u001b[0m\u001b[0mtools\u001b[0m\u001b[0;34m.\u001b[0m\u001b[0mipy_viewer\u001b[0m \u001b[0;32mimport\u001b[0m \u001b[0mViewer2D\u001b[0m\u001b[0;34m\u001b[0m\u001b[0m\n\u001b[1;32m      3\u001b[0m \u001b[0mviewer\u001b[0m \u001b[0;34m=\u001b[0m \u001b[0mViewer2D\u001b[0m\u001b[0;34m(\u001b[0m\u001b[0;34m'./Data'\u001b[0m\u001b[0;34m)\u001b[0m\u001b[0;34m\u001b[0m\u001b[0m\n\u001b[0;32m----> 4\u001b[0;31m \u001b[0mviewer\u001b[0m\u001b[0;34m.\u001b[0m\u001b[0mshow_log\u001b[0m\u001b[0;34m(\u001b[0m\u001b[0;34m)\u001b[0m\u001b[0;34m\u001b[0m\u001b[0m\n\u001b[0m",
      "\u001b[0;32m~/anaconda3/envs/python3/lib/python3.6/site-packages/pysph/tools/ipy_viewer.py\u001b[0m in \u001b[0;36mshow_log\u001b[0;34m(self)\u001b[0m\n\u001b[1;32m     74\u001b[0m         \u001b[0mprint\u001b[0m\u001b[0;34m(\u001b[0m\u001b[0;34m\"Printing log : \\n\\n\"\u001b[0m\u001b[0;34m)\u001b[0m\u001b[0;34m\u001b[0m\u001b[0m\n\u001b[1;32m     75\u001b[0m         \u001b[0mpath\u001b[0m \u001b[0;34m=\u001b[0m \u001b[0mself\u001b[0m\u001b[0;34m.\u001b[0m\u001b[0mpath\u001b[0m \u001b[0;34m+\u001b[0m \u001b[0;34m\"*.log\"\u001b[0m\u001b[0;34m\u001b[0m\u001b[0m\n\u001b[0;32m---> 76\u001b[0;31m         \u001b[0;32mwith\u001b[0m \u001b[0mopen\u001b[0m\u001b[0;34m(\u001b[0m\u001b[0mglob\u001b[0m\u001b[0;34m.\u001b[0m\u001b[0mglob\u001b[0m\u001b[0;34m(\u001b[0m\u001b[0mpath\u001b[0m\u001b[0;34m)\u001b[0m\u001b[0;34m[\u001b[0m\u001b[0;36m0\u001b[0m\u001b[0;34m]\u001b[0m\u001b[0;34m,\u001b[0m \u001b[0;34m'r'\u001b[0m\u001b[0;34m)\u001b[0m \u001b[0;32mas\u001b[0m \u001b[0mlogfile\u001b[0m\u001b[0;34m:\u001b[0m\u001b[0;34m\u001b[0m\u001b[0m\n\u001b[0m\u001b[1;32m     77\u001b[0m             \u001b[0;32mfor\u001b[0m \u001b[0mlines\u001b[0m \u001b[0;32min\u001b[0m \u001b[0mlogfile\u001b[0m\u001b[0;34m:\u001b[0m\u001b[0;34m\u001b[0m\u001b[0m\n\u001b[1;32m     78\u001b[0m                 \u001b[0mprint\u001b[0m\u001b[0;34m(\u001b[0m\u001b[0mlines\u001b[0m\u001b[0;34m)\u001b[0m\u001b[0;34m\u001b[0m\u001b[0m\n",
      "\u001b[0;31mIndexError\u001b[0m: list index out of range"
     ]
    }
   ],
   "source": [
    "%matplotlib ipympl\n",
    "from pysph.tools.ipy_viewer import Viewer2D\n",
    "viewer = Viewer2D('./Data')\n",
    "viewer.show_log()"
   ]
  },
  {
   "cell_type": "code",
   "execution_count": 23,
   "metadata": {},
   "outputs": [
    {
     "data": {
      "text/plain": [
       "(-2.0, 2.0)"
      ]
     },
     "execution_count": 23,
     "metadata": {},
     "output_type": "execute_result"
    },
    {
     "data": {
      "image/png": "[encoded data removed]",
      "text/plain": [
       "<Figure size 1080x1080 with 1 Axes>"
      ]
     },
     "metadata": {},
     "output_type": "display_data"
    }
   ],
   "source": [
    "%matplotlib inline\n",
    "\n",
    "from pysph.solver.utils import load\n",
    "data = load('Data/Data_1500.hdf5')\n",
    "#data=load(\"./model/Data_output/model/_0.hdf5\")\n",
    "#data=load(\"./test_dir/model/Data_150.hdf5\")\n",
    "particle_arrays = data['arrays']\n",
    "solver_data = data['solver_data']\n",
    "fluid = particle_arrays['fluid']\n",
    "x = fluid.x\n",
    "y = fluid.y\n",
    "\n",
    "import matplotlib.pyplot as plt\n",
    "plt.figure(figsize=(15,15))\n",
    "plt.axes().set_aspect('equal', 'datalim')\n",
    "plt.scatter(x,y)\n",
    "plt.xlim(-2.0,2.0)\n",
    "plt.ylim(-2.0,2.0)"
   ]
  },
  {
   "cell_type": "code",
   "execution_count": 186,
   "metadata": {},
   "outputs": [
    {
     "data": {
      "text/plain": [
       "array([ 0.,  0.,  0., ...,  0.,  0.,  0.])"
      ]
     },
     "execution_count": 186,
     "metadata": {},
     "output_type": "execute_result"
    }
   ],
   "source": [
    "x"
   ]
  }
 ],
 "metadata": {
  "kernelspec": {
   "display_name": "conda_python3",
   "language": "python",
   "name": "conda_python3"
  },
  "language_info": {
   "codemirror_mode": {
    "name": "ipython",
    "version": 3
   },
   "file_extension": ".py",
   "mimetype": "text/x-python",
   "name": "python",
   "nbconvert_exporter": "python",
   "pygments_lexer": "ipython3",
   "version": "3.6.5"
  }
 },
 "nbformat": 4,
 "nbformat_minor": 2
}
